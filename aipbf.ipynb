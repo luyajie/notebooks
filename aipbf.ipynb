{
 "cells": [
  {
   "cell_type": "code",
   "execution_count": 9,
   "metadata": {
    "collapsed": false
   },
   "outputs": [],
   "source": [
    "from pandas import *\n",
    "set_option('notebook_repr_html',False)"
   ]
  },
  {
   "cell_type": "code",
   "execution_count": 4,
   "metadata": {
    "collapsed": false
   },
   "outputs": [],
   "source": [
    "aipbf = read_csv('/home/lincoln/Dropbox/nupis/dados/aipbf/aipbf.csv')"
   ]
  },
  {
   "cell_type": "code",
   "execution_count": 5,
   "metadata": {
    "collapsed": false
   },
   "outputs": [
    {
     "data": {
      "text/plain": [
       "(68395, 93)"
      ]
     },
     "execution_count": 5,
     "metadata": {},
     "output_type": "execute_result"
    }
   ],
   "source": [
    "aipbf.shape"
   ]
  },
  {
   "cell_type": "code",
   "execution_count": 10,
   "metadata": {
    "collapsed": false
   },
   "outputs": [
    {
     "data": {
      "text/plain": [
       "         CHAVE  grupo  idade  sexo  pessoas  condicao  est_civil  pai_mora  \\\n",
       "0  204801001.0      1   36.0     2      1.0         1        2.0         2   \n",
       "1  204801001.0      1   49.0     1      2.0         2        2.0         2   \n",
       "2  204801001.0      1   15.0     2      3.0         3        1.0         1   \n",
       "3  204801001.0      1   13.0     1      4.0         3        NaN         1   \n",
       "4  204801001.0      1   12.0     1      5.0         3        NaN         1   \n",
       "\n",
       "   cor  tempo_mun   ...    p_ba  p_ca  p_be  p_vg  p_bpcdf  grupo1  grupo2  \\\n",
       "0    2          8   ...     NaN   NaN   NaN   NaN      NaN     1.0     1.0   \n",
       "1    1          8   ...     NaN   NaN   NaN   NaN      NaN     1.0     1.0   \n",
       "2    2          8   ...     NaN   NaN   NaN   NaN      NaN     1.0     1.0   \n",
       "3    2          8   ...     NaN   NaN   NaN   NaN      NaN     1.0     1.0   \n",
       "4    2          8   ...     NaN   NaN   NaN   NaN      NaN     1.0     1.0   \n",
       "\n",
       "   grupo5  sitdom  regiao  \n",
       "0     NaN     2.0       3  \n",
       "1     NaN     2.0       3  \n",
       "2     NaN     2.0       3  \n",
       "3     NaN     2.0       3  \n",
       "4     NaN     2.0       3  \n",
       "\n",
       "[5 rows x 93 columns]"
      ]
     },
     "execution_count": 10,
     "metadata": {},
     "output_type": "execute_result"
    }
   ],
   "source": [
    "aipbf.head()"
   ]
  },
  {
   "cell_type": "code",
   "execution_count": 11,
   "metadata": {
    "collapsed": false
   },
   "outputs": [
    {
     "data": {
      "text/plain": [
       "Index(['CHAVE', 'grupo', 'idade', 'sexo', 'pessoas', 'condicao', 'est_civil',\n",
       "       'pai_mora', 'cor', 'tempo_mun', 'tempo_dom', 'antes_14', 'altura',\n",
       "       'peso', 'bilhete', 'mot_nao', 'qd_largou', 'curso', 'serie',\n",
       "       'escolaridade', 'escolaridade_serie', 'eja', 'mot_n_eja', 'geduc_mens',\n",
       "       'geduc_transp', 'geduc_merenda', 'geduc_material', 'geduc_matr',\n",
       "       'geduc_unif', 'geduc_outros', 'saude', 'saude_cr', 'saude_cr_qual',\n",
       "       'atend_precisou', 'atend_procurou', 'atend_mot', 'atend_foi',\n",
       "       'atend_ond', 'atend_n_mot', 'gravida', 'gravida_mes', 'gravida_cons',\n",
       "       'trab', 'trab_ult', 'trab_idade', 'trab_procurou', 'trab_cod',\n",
       "       'trab_ramo', 'trab_pos', 'trab_horas', 'trab_prev', 'trab_sind',\n",
       "       'renda_trab', 'renda_trab_prod', 'renda_apos', 'renda_apos_val',\n",
       "       'renda_seg', 'renda_seg_val', 'renda_pensalim', 'renda_pensalim_val',\n",
       "       'renda_din', 'renda_din_val', 'renda_alu', 'renda_alu_val', 'renda_ven',\n",
       "       'renda_ven_val', 'renda_doa', 'renda_doa_val', 'renda_ali',\n",
       "       'renda_ali_val', 'renda_out', 'renda_out_val', 'g_trans_pub',\n",
       "       'g_trans_pub_val', 'g_trans_par', 'g_trans_par_val', 'g_tel',\n",
       "       'g_tel_val', 'g_alim', 'g_alim_val', 'g_tentacao', 'g_tentacao_val',\n",
       "       'p_bf', 'p_ba', 'p_ca', 'p_be', 'p_vg', 'p_bpcdf', 'grupo1', 'grupo2',\n",
       "       'grupo5', 'sitdom', 'regiao'],\n",
       "      dtype='object')"
      ]
     },
     "execution_count": 11,
     "metadata": {},
     "output_type": "execute_result"
    }
   ],
   "source": [
    "aipbf.columns"
   ]
  },
  {
   "cell_type": "code",
   "execution_count": 12,
   "metadata": {
    "collapsed": false
   },
   "outputs": [
    {
     "data": {
      "text/plain": [
       "grupo\n",
       "1    22236\n",
       "2    40353\n",
       "3     5806\n",
       "dtype: int64"
      ]
     },
     "execution_count": 12,
     "metadata": {},
     "output_type": "execute_result"
    }
   ],
   "source": [
    "aipbf.groupby('grupo').size()"
   ]
  },
  {
   "cell_type": "code",
   "execution_count": 36,
   "metadata": {
    "collapsed": false
   },
   "outputs": [
    {
     "data": {
      "text/plain": [
       "grupo\n",
       "1    4588\n",
       "2    9036\n",
       "3    1802\n",
       "dtype: int64"
      ]
     },
     "execution_count": 36,
     "metadata": {},
     "output_type": "execute_result"
    }
   ],
   "source": [
    "aipbf.drop_duplicates('CHAVE').groupby('grupo').size() "
   ]
  },
  {
   "cell_type": "code",
   "execution_count": 27,
   "metadata": {
    "collapsed": false
   },
   "outputs": [
    {
     "data": {
      "text/plain": [
       "grupo\n",
       "1    17.0\n",
       "2    20.0\n",
       "3    30.0\n",
       "Name: idade, dtype: float64"
      ]
     },
     "execution_count": 27,
     "metadata": {},
     "output_type": "execute_result"
    }
   ],
   "source": [
    "aipbf.groupby('grupo')['idade'].median()"
   ]
  },
  {
   "cell_type": "code",
   "execution_count": 35,
   "metadata": {
    "collapsed": false
   },
   "outputs": [
    {
     "data": {
      "text/plain": [
       "grupo\n",
       "1    250.0\n",
       "2    300.0\n",
       "3    400.0\n",
       "Name: renda_trab, dtype: float64"
      ]
     },
     "execution_count": 35,
     "metadata": {},
     "output_type": "execute_result"
    }
   ],
   "source": [
    "aipbf.query('idade > 5 & renda_trab < 80000').groupby('grupo')['renda_trab'].median()"
   ]
  },
  {
   "cell_type": "code",
   "execution_count": 44,
   "metadata": {
    "collapsed": false
   },
   "outputs": [
    {
     "data": {
      "text/plain": [
       "saude     1     2     3     4     5    6    9\n",
       "grupo                                        \n",
       "1      0.14  0.57  0.24  0.04  0.01  0.0  0.0\n",
       "2      0.13  0.57  0.24  0.04  0.01  0.0  0.0\n",
       "3      0.19  0.53  0.22  0.04  0.01  0.0  0.0"
      ]
     },
     "execution_count": 44,
     "metadata": {},
     "output_type": "execute_result"
    }
   ],
   "source": [
    "crosstab(aipbf.grupo, aipbf.saude, normalize='index').round(2)"
   ]
  },
  {
   "cell_type": "code",
   "execution_count": 53,
   "metadata": {
    "collapsed": false
   },
   "outputs": [
    {
     "data": {
      "text/plain": [
       "gravida    1.0    2.0    9.0\n",
       "grupo                       \n",
       "1        0.025  0.974  0.001\n",
       "2        0.025  0.975  0.001\n",
       "3        0.031  0.967  0.002"
      ]
     },
     "execution_count": 53,
     "metadata": {},
     "output_type": "execute_result"
    }
   ],
   "source": [
    "crosstab(aipbf.grupo, aipbf.gravida, normalize='index').round(3)"
   ]
  },
  {
   "cell_type": "code",
   "execution_count": 55,
   "metadata": {
    "collapsed": false
   },
   "outputs": [
    {
     "data": {
      "text/plain": [
       "gravida    1.0    2.0  9.0\n",
       "grupo                     \n",
       "1        0.037  0.963  0.0\n",
       "2        0.038  0.962  0.0\n",
       "3        0.042  0.958  0.0"
      ]
     },
     "execution_count": 55,
     "metadata": {},
     "output_type": "execute_result"
    }
   ],
   "source": [
    "crosstab(aipbf.grupo, aipbf.query('17 < idade < 41').gravida, normalize='index').round(3)"
   ]
  },
  {
   "cell_type": "code",
   "execution_count": 58,
   "metadata": {
    "collapsed": false
   },
   "outputs": [
    {
     "data": {
      "text/plain": [
       "trab    1.0   2.0   3.0  9.0\n",
       "grupo                       \n",
       "1      0.33  0.18  0.49  0.0\n",
       "2      0.36  0.20  0.44  0.0\n",
       "3      0.44  0.26  0.30  0.0"
      ]
     },
     "execution_count": 58,
     "metadata": {},
     "output_type": "execute_result"
    }
   ],
   "source": [
    "crosstab(aipbf.grupo, aipbf.trab, normalize='index').round(2)"
   ]
  },
  {
   "cell_type": "code",
   "execution_count": 57,
   "metadata": {
    "collapsed": false
   },
   "outputs": [
    {
     "data": {
      "text/plain": [
       "trab    1.0   2.0   3.0  9.0\n",
       "grupo                       \n",
       "1      0.57  0.32  0.10  0.0\n",
       "2      0.56  0.34  0.10  0.0\n",
       "3      0.53  0.38  0.09  0.0"
      ]
     },
     "execution_count": 57,
     "metadata": {},
     "output_type": "execute_result"
    }
   ],
   "source": [
    "crosstab(aipbf.grupo, aipbf.query('idade > 30').trab, normalize='index').round(2)"
   ]
  },
  {
   "cell_type": "code",
   "execution_count": 63,
   "metadata": {
    "collapsed": false
   },
   "outputs": [
    {
     "data": {
      "text/plain": [
       "trab   1.0   2.0   3.0   9.0\n",
       "cor                         \n",
       "1     0.55  0.35  0.10  0.00\n",
       "2     0.55  0.36  0.09  0.00\n",
       "3     0.57  0.33  0.11  0.00\n",
       "4     0.52  0.34  0.13  0.01\n",
       "5     0.57  0.35  0.08  0.00\n",
       "9     0.49  0.41  0.10  0.00"
      ]
     },
     "execution_count": 63,
     "metadata": {},
     "output_type": "execute_result"
    }
   ],
   "source": [
    "crosstab(aipbf.cor, aipbf.query('idade > 30').trab, normalize='index').round(2)"
   ]
  },
  {
   "cell_type": "code",
   "execution_count": 64,
   "metadata": {
    "collapsed": false
   },
   "outputs": [
    {
     "data": {
      "text/plain": [
       "cor       1     2     3     4    5     9\n",
       "grupo                                   \n",
       "1      0.30  0.11  0.57  0.01  0.0  0.01\n",
       "2      0.32  0.10  0.56  0.01  0.0  0.01\n",
       "3      0.50  0.07  0.41  0.01  0.0  0.01"
      ]
     },
     "execution_count": 64,
     "metadata": {},
     "output_type": "execute_result"
    }
   ],
   "source": [
    "crosstab(aipbf.grupo, aipbf.cor, normalize='index').round(2)"
   ]
  },
  {
   "cell_type": "code",
   "execution_count": 66,
   "metadata": {
    "collapsed": false
   },
   "outputs": [
    {
     "data": {
      "text/plain": [
       "grupo       \n",
       "1      count     651.000000\n",
       "       mean       10.469662\n",
       "       std        26.453223\n",
       "       min         0.300000\n",
       "       25%         3.000000\n",
       "       50%         5.000000\n",
       "       75%        10.000000\n",
       "       max       500.000000\n",
       "2      count    1274.000000\n",
       "       mean       11.639011\n",
       "       std        19.249064\n",
       "       min         0.100000\n",
       "       25%         3.050000\n",
       "       50%         7.000000\n",
       "       75%        12.600000\n",
       "       max       300.000000\n",
       "3      count     274.000000\n",
       "       mean       16.980474\n",
       "       std        19.730197\n",
       "       min         1.000000\n",
       "       25%         5.125000\n",
       "       50%        10.000000\n",
       "       75%        20.000000\n",
       "       max       150.000000\n",
       "Name: g_tentacao_val, dtype: float64"
      ]
     },
     "execution_count": 66,
     "metadata": {},
     "output_type": "execute_result"
    }
   ],
   "source": [
    "aipbf.groupby('grupo')['g_tentacao_val'].describe()"
   ]
  },
  {
   "cell_type": "code",
   "execution_count": null,
   "metadata": {
    "collapsed": true
   },
   "outputs": [],
   "source": []
  },
  {
   "cell_type": "code",
   "execution_count": null,
   "metadata": {
    "collapsed": true
   },
   "outputs": [],
   "source": []
  },
  {
   "cell_type": "code",
   "execution_count": null,
   "metadata": {
    "collapsed": true
   },
   "outputs": [],
   "source": []
  },
  {
   "cell_type": "code",
   "execution_count": null,
   "metadata": {
    "collapsed": true
   },
   "outputs": [],
   "source": []
  },
  {
   "cell_type": "code",
   "execution_count": null,
   "metadata": {
    "collapsed": true
   },
   "outputs": [],
   "source": []
  },
  {
   "cell_type": "code",
   "execution_count": null,
   "metadata": {
    "collapsed": true
   },
   "outputs": [],
   "source": []
  },
  {
   "cell_type": "code",
   "execution_count": null,
   "metadata": {
    "collapsed": true
   },
   "outputs": [],
   "source": []
  },
  {
   "cell_type": "code",
   "execution_count": null,
   "metadata": {
    "collapsed": true
   },
   "outputs": [],
   "source": []
  },
  {
   "cell_type": "code",
   "execution_count": null,
   "metadata": {
    "collapsed": true
   },
   "outputs": [],
   "source": []
  }
 ],
 "metadata": {
  "anaconda-cloud": {},
  "kernelspec": {
   "display_name": "Python [Root]",
   "language": "python",
   "name": "Python [Root]"
  },
  "language_info": {
   "codemirror_mode": {
    "name": "ipython",
    "version": 3
   },
   "file_extension": ".py",
   "mimetype": "text/x-python",
   "name": "python",
   "nbconvert_exporter": "python",
   "pygments_lexer": "ipython3",
   "version": "3.5.2"
  }
 },
 "nbformat": 4,
 "nbformat_minor": 1
}
