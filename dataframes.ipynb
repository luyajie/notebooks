{
 "cells": [
  {
   "cell_type": "markdown",
   "metadata": {},
   "source": [
    "## Pandas\n",
    "\n",
    "o mundo maravilhoso dos dataframes"
   ]
  },
  {
   "cell_type": "code",
   "execution_count": 2,
   "metadata": {
    "collapsed": false
   },
   "outputs": [],
   "source": [
    "from pandas import *\n",
    "set_option('notebook_repr_html', False)"
   ]
  },
  {
   "cell_type": "markdown",
   "metadata": {},
   "source": [
    "#### Dois tipos de objeto:\n",
    "\n",
    "1. **série**: arranjo indexado unidimensional (vetor no R).\n",
    "2. **dataframe**: conjunto de séries que compartilham os mesmos índices.  \n"
   ]
  },
  {
   "cell_type": "code",
   "execution_count": 4,
   "metadata": {
    "collapsed": false
   },
   "outputs": [
    {
     "data": {
      "text/plain": [
       "0     4.0\n",
       "1     5.0\n",
       "2     6.1\n",
       "3    98.0\n",
       "dtype: float64"
      ]
     },
     "execution_count": 4,
     "metadata": {},
     "output_type": "execute_result"
    }
   ],
   "source": [
    "# criando uma série\n",
    "serie = Series([4, 5, 6.1, 98])\n",
    "serie"
   ]
  },
  {
   "cell_type": "code",
   "execution_count": 5,
   "metadata": {
    "collapsed": false
   },
   "outputs": [
    {
     "data": {
      "text/plain": [
       "array([  4. ,   5. ,   6.1,  98. ])"
      ]
     },
     "execution_count": 5,
     "metadata": {},
     "output_type": "execute_result"
    }
   ],
   "source": [
    "# apenas valores\n",
    "serie.values"
   ]
  },
  {
   "cell_type": "code",
   "execution_count": 6,
   "metadata": {
    "collapsed": false
   },
   "outputs": [
    {
     "data": {
      "text/plain": [
       "RangeIndex(start=0, stop=4, step=1)"
      ]
     },
     "execution_count": 6,
     "metadata": {},
     "output_type": "execute_result"
    }
   ],
   "source": [
    "serie.index"
   ]
  },
  {
   "cell_type": "code",
   "execution_count": 7,
   "metadata": {
    "collapsed": false
   },
   "outputs": [
    {
     "data": {
      "text/plain": [
       "a     4.0\n",
       "b     5.0\n",
       "c     6.1\n",
       "d    98.0\n",
       "dtype: float64"
      ]
     },
     "execution_count": 7,
     "metadata": {},
     "output_type": "execute_result"
    }
   ],
   "source": [
    "# especificar o índice manualmente\n",
    "serie2 = Series([4, 5, 6.1, 98], index=list('abcd'))\n",
    "serie2"
   ]
  },
  {
   "cell_type": "code",
   "execution_count": 8,
   "metadata": {
    "collapsed": false
   },
   "outputs": [
    {
     "data": {
      "text/plain": [
       "6.0999999999999996"
      ]
     },
     "execution_count": 8,
     "metadata": {},
     "output_type": "execute_result"
    }
   ],
   "source": [
    "serie2['c']"
   ]
  },
  {
   "cell_type": "code",
   "execution_count": 9,
   "metadata": {
    "collapsed": false
   },
   "outputs": [
    {
     "data": {
      "text/plain": [
       "c     6.1\n",
       "d    98.0\n",
       "dtype: float64"
      ]
     },
     "execution_count": 9,
     "metadata": {},
     "output_type": "execute_result"
    }
   ],
   "source": [
    "serie2[serie2 > 5]"
   ]
  },
  {
   "cell_type": "markdown",
   "metadata": {},
   "source": [
    "Um dataframe pode também ser visto como um dicionário de séries."
   ]
  },
  {
   "cell_type": "code",
   "execution_count": 10,
   "metadata": {
    "collapsed": false
   },
   "outputs": [
    {
     "data": {
      "text/plain": [
       "    ano estado  pop\n",
       "0  2000     mg  1.5\n",
       "1  2001     sp  1.7\n",
       "2  2002     pr  3.6\n",
       "3  2001     rj  2.4\n",
       "4  2002     ba  2.9"
      ]
     },
     "execution_count": 10,
     "metadata": {},
     "output_type": "execute_result"
    }
   ],
   "source": [
    "dados = {'estado': ['mg', 'sp', 'pr', 'rj', 'ba'],\n",
    "        'ano': [2000, 2001, 2002, 2001, 2002],\n",
    "        'pop': [1.5, 1.7, 3.6, 2.4, 2.9]}\n",
    "dados = DataFrame(dados)\n",
    "\n",
    "dados"
   ]
  },
  {
   "cell_type": "code",
   "execution_count": 11,
   "metadata": {
    "collapsed": false
   },
   "outputs": [
    {
     "data": {
      "text/plain": [
       "  estado   ano  pop\n",
       "0     mg  2000  1.5\n",
       "1     sp  2001  1.7\n",
       "2     pr  2002  3.6\n",
       "3     rj  2001  2.4\n",
       "4     ba  2002  2.9"
      ]
     },
     "execution_count": 11,
     "metadata": {},
     "output_type": "execute_result"
    }
   ],
   "source": [
    "# mudando a ordem das colunas\n",
    "DataFrame(dados, columns=['estado', 'ano', 'pop'])"
   ]
  },
  {
   "cell_type": "code",
   "execution_count": 94,
   "metadata": {
    "collapsed": false
   },
   "outputs": [
    {
     "data": {
      "text/plain": [
       "    ano estado  pop  dívida\n",
       "0  2000     mg  1.5     NaN\n",
       "1  2001     sp  1.7     NaN\n",
       "2  2002     pr  3.6     NaN\n",
       "3  2001     rj  2.4     NaN\n",
       "4  2002     ba  2.9     NaN"
      ]
     },
     "execution_count": 94,
     "metadata": {},
     "output_type": "execute_result"
    }
   ],
   "source": [
    "# se indicar coluna que não existe, ela é preenchida com NaN\n",
    "dados2 = DataFrame(dados, columns=['ano', 'estado', 'pop', 'dívida'])\n",
    "dados2"
   ]
  },
  {
   "cell_type": "code",
   "execution_count": 98,
   "metadata": {
    "collapsed": false
   },
   "outputs": [
    {
     "data": {
      "text/plain": [
       "    ano estado  pop  dívida\n",
       "0  2000     mg  1.5    16.5\n",
       "1  2001     sp  1.7    16.5\n",
       "2  2002     pr  3.6    16.5\n",
       "3  2001     rj  2.4    16.5\n",
       "4  2002     ba  2.9    16.5"
      ]
     },
     "execution_count": 98,
     "metadata": {},
     "output_type": "execute_result"
    }
   ],
   "source": [
    "# redefinir valores\n",
    "dados2['dívida'] = 16.5\n",
    "dados2"
   ]
  },
  {
   "cell_type": "code",
   "execution_count": 99,
   "metadata": {
    "collapsed": false
   },
   "outputs": [
    {
     "data": {
      "text/plain": [
       "    ano estado  pop  dívida\n",
       "0  2000     mg  1.5     0.0\n",
       "1  2001     sp  1.7     1.0\n",
       "2  2002     pr  3.6     2.0\n",
       "3  2001     rj  2.4     3.0\n",
       "4  2002     ba  2.9     4.0"
      ]
     },
     "execution_count": 99,
     "metadata": {},
     "output_type": "execute_result"
    }
   ],
   "source": [
    "# redefinir valores usando arange\n",
    "dados2['dívida'] = np.arange(5.)\n",
    "dados2"
   ]
  },
  {
   "cell_type": "code",
   "execution_count": 95,
   "metadata": {
    "collapsed": false
   },
   "outputs": [
    {
     "data": {
      "text/plain": [
       "0    2000\n",
       "1    2001\n",
       "2    2002\n",
       "3    2001\n",
       "4    2002\n",
       "Name: ano, dtype: int64"
      ]
     },
     "execution_count": 95,
     "metadata": {},
     "output_type": "execute_result"
    }
   ],
   "source": [
    "# Para subselecionar uma coluna, é possível usar notação de dicionário ou de atributo\n",
    "dados2['ano'] # notação de dicionário"
   ]
  },
  {
   "cell_type": "code",
   "execution_count": 96,
   "metadata": {
    "collapsed": false
   },
   "outputs": [
    {
     "data": {
      "text/plain": [
       "0    2000\n",
       "1    2001\n",
       "2    2002\n",
       "3    2001\n",
       "4    2002\n",
       "Name: ano, dtype: int64"
      ]
     },
     "execution_count": 96,
     "metadata": {},
     "output_type": "execute_result"
    }
   ],
   "source": [
    "dados2.ano # notação de atributo"
   ]
  },
  {
   "cell_type": "code",
   "execution_count": 100,
   "metadata": {
    "collapsed": false
   },
   "outputs": [
    {
     "data": {
      "text/plain": [
       "   aaaano estado  pop  dívida\n",
       "0    2000     mg  1.5     0.0\n",
       "1    2001     sp  1.7     1.0\n",
       "2    2002     pr  3.6     2.0\n",
       "3    2001     rj  2.4     3.0\n",
       "4    2002     ba  2.9     4.0"
      ]
     },
     "execution_count": 100,
     "metadata": {},
     "output_type": "execute_result"
    }
   ],
   "source": [
    "# renomear coluna\n",
    "dados2.rename(columns={'ano': 'aaaano'})"
   ]
  },
  {
   "cell_type": "code",
   "execution_count": 101,
   "metadata": {
    "collapsed": false
   },
   "outputs": [
    {
     "data": {
      "text/plain": [
       "    ano estado  pop  dívida  dívida_pc\n",
       "0  2000     mg  1.5     0.0       0.00\n",
       "1  2001     sp  1.7     1.0       0.59\n",
       "2  2002     pr  3.6     2.0       0.56\n",
       "3  2001     rj  2.4     3.0       1.25\n",
       "4  2002     ba  2.9     4.0       1.38"
      ]
     },
     "execution_count": 101,
     "metadata": {},
     "output_type": "execute_result"
    }
   ],
   "source": [
    "dados2['dívida_pc'] = dados2['dívida'] / dados2['pop']\n",
    "dados2.round(2)"
   ]
  },
  {
   "cell_type": "code",
   "execution_count": 102,
   "metadata": {
    "collapsed": false
   },
   "outputs": [
    {
     "data": {
      "text/plain": [
       "    ano estado  pop  dívida  dívida_pc   nova\n",
       "0  2000     mg  1.5     0.0   0.000000   True\n",
       "1  2001     sp  1.7     1.0   0.588235  False\n",
       "2  2002     pr  3.6     2.0   0.555556  False\n",
       "3  2001     rj  2.4     3.0   1.250000  False\n",
       "4  2002     ba  2.9     4.0   1.379310  False"
      ]
     },
     "execution_count": 102,
     "metadata": {},
     "output_type": "execute_result"
    }
   ],
   "source": [
    "# criar coluna com um teste booleano\n",
    "dados2['nova'] = dados2.estado == 'mg'\n",
    "dados2"
   ]
  },
  {
   "cell_type": "code",
   "execution_count": 103,
   "metadata": {
    "collapsed": true
   },
   "outputs": [],
   "source": [
    "# apagar coluna\n",
    "del dados2['nova']"
   ]
  },
  {
   "cell_type": "code",
   "execution_count": 104,
   "metadata": {
    "collapsed": false
   },
   "outputs": [
    {
     "data": {
      "text/plain": [
       "    ano estado  pop  dívida  dívida_pc\n",
       "0  2000     mg  1.5     0.0   0.000000\n",
       "1  2001     sp  1.7     1.0   0.588235\n",
       "2  2002     pr  3.6     2.0   0.555556\n",
       "3  2001     rj  2.4     3.0   1.250000\n",
       "4  2002     ba  2.9     4.0   1.379310"
      ]
     },
     "execution_count": 104,
     "metadata": {},
     "output_type": "execute_result"
    }
   ],
   "source": [
    "dados2"
   ]
  },
  {
   "cell_type": "code",
   "execution_count": 105,
   "metadata": {
    "collapsed": false
   },
   "outputs": [
    {
     "data": {
      "text/plain": [
       "  estado  pop  dívida  dívida_pc\n",
       "0     mg  1.5     0.0   0.000000\n",
       "1     sp  1.7     1.0   0.588235\n",
       "2     pr  3.6     2.0   0.555556\n",
       "3     rj  2.4     3.0   1.250000\n",
       "4     ba  2.9     4.0   1.379310"
      ]
     },
     "execution_count": 105,
     "metadata": {},
     "output_type": "execute_result"
    }
   ],
   "source": [
    "# apagar coluna, outra maneira \n",
    "dados2.drop('ano', axis=1)"
   ]
  },
  {
   "cell_type": "code",
   "execution_count": 106,
   "metadata": {
    "collapsed": false
   },
   "outputs": [
    {
     "data": {
      "text/plain": [
       "array([[2000, 'mg', 1.5, 0.0, 0.0],\n",
       "       [2001, 'sp', 1.7, 1.0, 0.5882352941176471],\n",
       "       [2002, 'pr', 3.6, 2.0, 0.5555555555555556],\n",
       "       [2001, 'rj', 2.4, 3.0, 1.25],\n",
       "       [2002, 'ba', 2.9, 4.0, 1.3793103448275863]], dtype=object)"
      ]
     },
     "execution_count": 106,
     "metadata": {},
     "output_type": "execute_result"
    }
   ],
   "source": [
    "# mostrar apenas os valores\n",
    "dados2.values"
   ]
  },
  {
   "cell_type": "code",
   "execution_count": 109,
   "metadata": {
    "collapsed": false
   },
   "outputs": [
    {
     "data": {
      "text/plain": [
       "    ano estado  pop  dívida  dívida_pc\n",
       "0  2000     mg  1.5     0.0   0.000000\n",
       "2  2002     pr  3.6     2.0   0.555556\n",
       "3  2001     rj  2.4     3.0   1.250000"
      ]
     },
     "execution_count": 109,
     "metadata": {},
     "output_type": "execute_result"
    }
   ],
   "source": [
    "# apagar linha\n",
    "dados2.drop([1, 4])"
   ]
  },
  {
   "cell_type": "code",
   "execution_count": 110,
   "metadata": {
    "collapsed": false
   },
   "outputs": [
    {
     "data": {
      "text/plain": [
       "              0         1         2     3        4\n",
       "ano        2000      2001      2002  2001     2002\n",
       "estado       mg        sp        pr    rj       ba\n",
       "pop         1.5       1.7       3.6   2.4      2.9\n",
       "dívida        0         1         2     3        4\n",
       "dívida_pc     0  0.588235  0.555556  1.25  1.37931"
      ]
     },
     "execution_count": 110,
     "metadata": {},
     "output_type": "execute_result"
    }
   ],
   "source": [
    "# transpor\n",
    "dados2.T"
   ]
  },
  {
   "cell_type": "markdown",
   "metadata": {
    "collapsed": false
   },
   "source": [
    "## Ler dados"
   ]
  },
  {
   "cell_type": "code",
   "execution_count": 12,
   "metadata": {
    "collapsed": false
   },
   "outputs": [
    {
     "data": {
      "text/plain": [
       "'/home/lincoln/Dropbox/nupis/python'"
      ]
     },
     "execution_count": 12,
     "metadata": {},
     "output_type": "execute_result"
    }
   ],
   "source": [
    "# conferir em qual diretório você está\n",
    "%pwd"
   ]
  },
  {
   "cell_type": "code",
   "execution_count": 13,
   "metadata": {
    "collapsed": false
   },
   "outputs": [
    {
     "name": "stdout",
     "output_type": "stream",
     "text": [
      "algebra.ipynb               example.json           scatter.html\r\n",
      "altair.ipynb                grandes_regioes.ipynb  seaborn.ipynb\r\n",
      "atlas.csv                   hr90.html              seaborn_violin.html\r\n",
      "bokeh.ipynb                 ipython.ipynb          sklearn.ipynb\r\n",
      "bqplot.ipynb                k-means.ipynb          slides.ipynb\r\n",
      "choropleth.html             line.html              slides.slides.html\r\n",
      "\u001b[0m\u001b[01;35mcsv.jpg\u001b[0m                     lines.html             stacked_bar.html\r\n",
      "dataframes.ipynb            log_lines.html         strings.ipynb\r\n",
      "demografia.ipynb            matplotlib.ipynb       teste2.ipynb\r\n",
      "demo.ipynb                  numeros.ipynb          Teste-apagar.ipynb\r\n",
      "demo-patricia.ipynb         osm.html               teste.ipynb\r\n",
      "espacial_aede.ipynb         pca.ipynb              Untitled1.ipynb\r\n",
      "espacial_agrupamento.ipynb  plotly.ipynb           Untitled2.ipynb\r\n",
      "espacial_mapas.ipynb        prog2.ipynb            Untitled.ipynb\r\n",
      "espacial_regressao.ipynb    prog.ipynb             wdi.ipynb\r\n",
      "example_HR80.html           regressao.ipynb        xonsh-configurar\r\n",
      "example_HR90.html           r.ipynb                xonsh.ipynb\r\n"
     ]
    }
   ],
   "source": [
    "# lista os arquivos do diretório\n",
    "%time"
   ]
  },
  {
   "cell_type": "code",
   "execution_count": 4,
   "metadata": {
    "collapsed": false
   },
   "outputs": [],
   "source": [
    "atlas = read_csv('atlas.csv')"
   ]
  },
  {
   "cell_type": "code",
   "execution_count": null,
   "metadata": {
    "collapsed": true
   },
   "outputs": [],
   "source": [
    "# usando o TAB para autocompletar, é muito fácil ler dados que estão em outro diretório\n",
    "# atlas = read_csv('/home/lincoln/Dropbox/nupis/dados/atlas.csv') "
   ]
  },
  {
   "cell_type": "markdown",
   "metadata": {},
   "source": [
    "## Subselecionar"
   ]
  },
  {
   "cell_type": "code",
   "execution_count": 116,
   "metadata": {
    "collapsed": false
   },
   "outputs": [
    {
     "data": {
      "text/plain": [
       "    uf   nome_uf  meso          nome_meso  micro         nome_micro  codmun6  \\\n",
       "41  11  rondônia  1102  leste rondoniense  11007            vilhena   110145   \n",
       "42  11  rondônia  1102  leste rondoniense  11008  colorado do oeste   110146   \n",
       "\n",
       "    codmun7              nome_mun  espvida   ...     vab_total  impostos  \\\n",
       "41  1101450               parecis    73.00   ...      47291.78   2673.68   \n",
       "42  1101468  pimenteiras do oeste    73.98   ...      41633.03   2163.47   \n",
       "\n",
       "         pib     pibpc   agro   ind    ser    adm   imp  cid_peq  \n",
       "41  49965.46  10387.83  372.0  66.0  125.0  384.0  54.0     True  \n",
       "42  43796.50  18861.54  526.0  43.0  107.0  275.0  49.0     True  \n",
       "\n",
       "[2 rows x 84 columns]"
      ]
     },
     "execution_count": 116,
     "metadata": {},
     "output_type": "execute_result"
    }
   ],
   "source": [
    "# linhas\n",
    "atlas[41:43]"
   ]
  },
  {
   "cell_type": "code",
   "execution_count": 6,
   "metadata": {
    "collapsed": false
   },
   "outputs": [
    {
     "data": {
      "text/plain": [
       "0    24392\n",
       "1    90353\n",
       "2     6313\n",
       "3    78574\n",
       "4    17029\n",
       "Name: pop, dtype: int64"
      ]
     },
     "execution_count": 6,
     "metadata": {},
     "output_type": "execute_result"
    }
   ],
   "source": [
    "# colunas\n",
    "atlas['pop']"
   ]
  },
  {
   "cell_type": "code",
   "execution_count": 13,
   "metadata": {
    "collapsed": false
   },
   "outputs": [],
   "source": [
    "a = atlas.loc[:,['nome_mun', 'pop']]"
   ]
  },
  {
   "cell_type": "code",
   "execution_count": 15,
   "metadata": {
    "collapsed": false
   },
   "outputs": [
    {
     "data": {
      "text/plain": [
       "                     nome_mun       pop\n",
       "3828                são paulo  11253503\n",
       "3241           rio de janeiro   6320446\n",
       "2161                 salvador   2675656\n",
       "5564                 brasília   2570160\n",
       "948                 fortaleza   2452185\n",
       "2308           belo horizonte   2375151\n",
       "111                    manaus   1802014\n",
       "4004                 curitiba   1751907\n",
       "1595                   recife   1537704\n",
       "4927             porto alegre   1409351\n",
       "169                     belém   1393399\n",
       "5412                  goiânia   1302001\n",
       "3478                guarulhos   1221979\n",
       "3374                 campinas   1080113\n",
       "634                  são luís   1014837\n",
       "3246              são gonçalo    999728\n",
       "1695                   maceió    932748\n",
       "3198          duque de caxias    855048\n",
       "881                  teresina    814230\n",
       "1162                    natal    803739\n",
       "3223              nova iguaçu    796257\n",
       "5118             campo grande    786797\n",
       "3810    são bernardo do campo    765463\n",
       "1336              joão pessoa    723515\n",
       "3800              santo andré    676407\n",
       "3653                   osasco    666740\n",
       "1551  jaboatão dos guararapes    644620\n",
       "3823      são josé dos campos    629921\n",
       "3753           ribeirão preto    604682\n",
       "3066               uberlândia    604013\n",
       "2447                 contagem    603442\n",
       "3847                 sorocaba    586625\n",
       "1753                  aracaju    571149\n",
       "1956         feira de santana    556642\n",
       "5214                   cuiabá    551098\n",
       "2662             juiz de fora    516247\n",
       "4446                joinville    515288\n",
       "4101                 londrina    506701\n",
       "3221                  niterói    487562\n",
       "160                ananindeua    471980\n",
       "3182             belford roxo    469332"
      ]
     },
     "execution_count": 15,
     "metadata": {},
     "output_type": "execute_result"
    }
   ],
   "source": [
    "a.sort_values('pop', ascending=False).head(41)"
   ]
  },
  {
   "cell_type": "code",
   "execution_count": 118,
   "metadata": {
    "collapsed": false
   },
   "outputs": [
    {
     "data": {
      "text/plain": [
       "          pop  fectot\n",
       "0       24392    2.24\n",
       "1       90353    1.91\n",
       "2        6313    2.15\n",
       "3       78574    1.90\n",
       "4       17029    2.12\n",
       "5       18591    1.89\n",
       "6        8783    2.29\n",
       "7       13678    2.72\n",
       "8       28729    2.22\n",
       "9       41656    2.61\n",
       "10      52005    2.11\n",
       "11     116610    2.26\n",
       "12      31135    2.54\n",
       "13      19874    2.03\n",
       "14      37928    1.86\n",
       "15      33822    2.18\n",
       "16     428527    2.13\n",
       "17      22319    2.27\n",
       "18       3316    2.93\n",
       "19      50648    1.99\n",
       "20       8886    2.32\n",
       "21      76202    1.99\n",
       "22      21828    2.29\n",
       "23      22546    2.78\n",
       "24      16853    1.87\n",
       "25      12816    2.69\n",
       "26      17135    2.93\n",
       "27      32383    2.57\n",
       "28      10240    2.26\n",
       "29       5736    2.53\n",
       "...       ...     ...\n",
       "5535    30034    1.72\n",
       "5536     4617    2.55\n",
       "5537    22283    2.24\n",
       "5538     3757    2.41\n",
       "5539     1991    1.97\n",
       "5540    17088    1.86\n",
       "5541    84443    2.12\n",
       "5542     7481    2.62\n",
       "5543    19089    2.21\n",
       "5544     6514    2.58\n",
       "5545     2825    2.84\n",
       "5546     3541    1.55\n",
       "5547     3016    2.86\n",
       "5548     6561    2.17\n",
       "5549     2819    1.85\n",
       "5550   104488    1.99\n",
       "5551     3452    2.21\n",
       "5552     4839    1.96\n",
       "5553     4399    2.71\n",
       "5554     2933    3.10\n",
       "5555    36929    1.97\n",
       "5556    13826    1.96\n",
       "5557     3074    1.50\n",
       "5558   132982    1.79\n",
       "5559     3659    2.34\n",
       "5560    12548    2.10\n",
       "5561     7371    2.29\n",
       "5562     4735    2.64\n",
       "5563     5145    2.67\n",
       "5564  2570160    1.75\n",
       "\n",
       "[5565 rows x 2 columns]"
      ]
     },
     "execution_count": 118,
     "metadata": {},
     "output_type": "execute_result"
    }
   ],
   "source": [
    "# mais de uma coluna\n",
    "atlas[['pop', 'fectot']]"
   ]
  },
  {
   "cell_type": "code",
   "execution_count": 119,
   "metadata": {
    "collapsed": false
   },
   "outputs": [
    {
     "data": {
      "text/plain": [
       "      uf           nome_uf  meso                        nome_meso  micro  \\\n",
       "948   23             ceará  2303       metropolitana de fortaleza  23016   \n",
       "2161  29             bahia  2905        metropolitana de salvador  29021   \n",
       "2308  31      minas gerais  3107  metropolitana de belo horizonte  31030   \n",
       "3241  33    rio de janeiro  3306  metropolitana do rio de janeiro  33018   \n",
       "3828  35         são paulo  3515       metropolitana de são paulo  35061   \n",
       "5564  53  distrito federal  5301                 distrito federal  53001   \n",
       "\n",
       "          nome_micro  codmun6  codmun7        nome_mun  espvida   ...     \\\n",
       "948        fortaleza   230440  2304400       fortaleza    74.41   ...      \n",
       "2161        salvador   292740  2927408        salvador    75.10   ...      \n",
       "2308  belo horizonte   310620  3106200  belo horizonte    76.37   ...      \n",
       "3241  rio de janeiro   330455  3304557  rio de janeiro    75.69   ...      \n",
       "3828       são paulo   355030  3550308       são paulo    76.30   ...      \n",
       "5564        brasília   530010  5300108        brasília    77.35   ...      \n",
       "\n",
       "         vab_total     impostos           pib     pibpc  agro    ind    ser  \\\n",
       "948   3.171399e+07   5497598.53  3.721158e+07  15204.48   1.0  173.0  551.0   \n",
       "2161  3.463445e+07   5608532.08  4.024299e+07  15035.08   1.0  175.0  578.0   \n",
       "2308  4.995960e+07   9270031.69  5.922963e+07  24934.13   0.0  176.0  565.0   \n",
       "3241  1.604171e+08  47471125.80  2.078883e+08  32877.91   0.0  132.0  509.0   \n",
       "3828  3.626643e+08  84294504.48  4.469588e+08  39749.57   0.0  129.0  622.0   \n",
       "5564  1.216143e+08  22554115.72  1.441684e+08  56250.67   2.0   64.0  404.0   \n",
       "\n",
       "         adm    imp  cid_peq  \n",
       "948   128.00  148.0    False  \n",
       "2161  106.00  139.0    False  \n",
       "2308  102.00  157.0    False  \n",
       "3241    0.13  228.0    False  \n",
       "3828    0.06  189.0    False  \n",
       "5564  374.00  156.0    False  \n",
       "\n",
       "[6 rows x 84 columns]"
      ]
     },
     "execution_count": 119,
     "metadata": {},
     "output_type": "execute_result"
    }
   ],
   "source": [
    "# subseleção booleana de uma coluna \n",
    "atlas[atlas['pop']> 2000000]"
   ]
  },
  {
   "cell_type": "code",
   "execution_count": 120,
   "metadata": {
    "collapsed": false
   },
   "outputs": [
    {
     "data": {
      "text/plain": [
       "0                  rondônia\n",
       "52                     acre\n",
       "74                 amazonas\n",
       "136                 roraima\n",
       "151                    pará\n",
       "294                   amapá\n",
       "310               tocantins\n",
       "449                maranhão\n",
       "666                   piauí\n",
       "890                   ceará\n",
       "1074    rio grande do norte\n",
       "1241                paraíba\n",
       "1464             pernambuco\n",
       "1649                alagoas\n",
       "1751                sergipe\n",
       "1826                  bahia\n",
       "2243           minas gerais\n",
       "3096         espírito santo\n",
       "3174         rio de janeiro\n",
       "3266              são paulo\n",
       "3911                 paraná\n",
       "4310         santa catarina\n",
       "4603      rio grande do sul\n",
       "5099     mato grosso do sul\n",
       "5177            mato grosso\n",
       "5318                  goiás\n",
       "5564       distrito federal\n",
       "Name: nome_uf, dtype: object"
      ]
     },
     "execution_count": 120,
     "metadata": {},
     "output_type": "execute_result"
    }
   ],
   "source": [
    "# mostrar valores únicos\n",
    "atlas['nome_uf'].drop_duplicates()"
   ]
  },
  {
   "cell_type": "code",
   "execution_count": 121,
   "metadata": {
    "collapsed": false
   },
   "outputs": [
    {
     "data": {
      "text/plain": [
       "      uf         nome_uf  meso                  nome_meso  micro  \\\n",
       "2453  31    minas gerais  3108           vale do rio doce  31037   \n",
       "1510  26      pernambuco  2604          mata pernambucana  26015   \n",
       "3991  41          paraná  4104  norte pioneiro paranaense  41015   \n",
       "2788  31    minas gerais  3112               zona da mata  31065   \n",
       "4576  42  santa catarina  4205       grande florianópolis  42015   \n",
       "\n",
       "                        nome_micro  codmun6  codmun7      nome_mun  espvida  \\\n",
       "2453          governador valadares   311920  3119203       coroaci    73.64   \n",
       "1510  mata meridional pernambucana   260420  2604205       catende    70.59   \n",
       "3991             cornélio procópio   410600  4106001  congonhinhas    73.53   \n",
       "2788                  juiz de fora   314660  3146602         paiva    75.72   \n",
       "4576                       tijucas   421800  4218004       tijucas    77.39   \n",
       "\n",
       "       ...     vab_total   impostos        pib     pibpc   agro    ind    ser  \\\n",
       "2453   ...      52645.38    1920.09   54565.47   5311.02  184.0  91.00  242.0   \n",
       "1510   ...     205540.07   11917.68  217457.74   5748.29    0.2  54.00  283.0   \n",
       "3991   ...      81044.88    3476.50   84521.38  10209.13  402.0  78.00  253.0   \n",
       "2788   ...      11435.58     435.28   11870.87   7609.53   87.0  63.00  306.0   \n",
       "4576   ...     588858.75  105966.06  694824.81  22433.24   28.0   0.29  411.0   \n",
       "\n",
       "        adm    imp  cid_peq  \n",
       "2453  448.0   35.0     True  \n",
       "1510  409.0   55.0    False  \n",
       "3991  226.0   41.0     True  \n",
       "2788  507.0   37.0     True  \n",
       "4576  119.0  153.0    False  \n",
       "\n",
       "[5 rows x 84 columns]"
      ]
     },
     "execution_count": 121,
     "metadata": {},
     "output_type": "execute_result"
    }
   ],
   "source": [
    "# amostrar\n",
    "atlas.sample(5)"
   ]
  },
  {
   "cell_type": "markdown",
   "metadata": {},
   "source": [
    "### Subseleção com pesquisa"
   ]
  },
  {
   "cell_type": "code",
   "execution_count": 14,
   "metadata": {
    "collapsed": false
   },
   "outputs": [
    {
     "ename": "SyntaxError",
     "evalue": "invalid syntax (<ipython-input-14-abe8b3900e7a>, line 1)",
     "output_type": "error",
     "traceback": [
      "\u001b[0;36m  File \u001b[0;32m\"<ipython-input-14-abe8b3900e7a>\"\u001b[0;36m, line \u001b[0;32m1\u001b[0m\n\u001b[0;31m    vga = atlas.query('nome_micro == 'varginha'')\u001b[0m\n\u001b[0m                                             ^\u001b[0m\n\u001b[0;31mSyntaxError\u001b[0m\u001b[0;31m:\u001b[0m invalid syntax\n"
     ]
    }
   ],
   "source": [
    "vga = atlas.query('nome_micro == \"varginha\"')\n",
    "vga.shape"
   ]
  },
  {
   "cell_type": "code",
   "execution_count": 123,
   "metadata": {
    "collapsed": false
   },
   "outputs": [
    {
     "data": {
      "text/plain": [
       "      uf            nome_uf  meso               nome_meso  micro  nome_micro  \\\n",
       "3272  35          são paulo  3506              piracicaba  35028  piracicaba   \n",
       "4527  42     santa catarina  4206         sul catarinense  42018     tubarão   \n",
       "5056  43  rio grande do sul  4301  noroeste rio-grandense  43004     erechim   \n",
       "\n",
       "      codmun6  codmun7            nome_mun  espvida   ...     vab_total  \\\n",
       "3272   350060  3500600  águas de são pedro    78.37   ...      65902.50   \n",
       "4527   421490  4214904         rio fortuna    75.98   ...     319813.00   \n",
       "5056   432163  4321634        três arroios    76.08   ...      36774.21   \n",
       "\n",
       "      impostos        pib     pibpc   agro    ind     ser    adm   imp  \\\n",
       "3272   3803.73   69706.23  25788.47    0.0  91.00  677.00  177.0  55.0   \n",
       "4527   5134.74  324947.74  73087.66   84.0   0.81    0.06   31.0  16.0   \n",
       "5056   1644.25   38418.46  13456.55  408.0  43.00    0.25  256.0  43.0   \n",
       "\n",
       "      cid_peq  \n",
       "3272     True  \n",
       "4527     True  \n",
       "5056     True  \n",
       "\n",
       "[3 rows x 84 columns]"
      ]
     },
     "execution_count": 123,
     "metadata": {},
     "output_type": "execute_result"
    }
   ],
   "source": [
    "atlas.query('pop < 5000 & rdpc > 1500') # ou atlas[(atlas.pop < 5000) & (atlas.rdpc > 1500)]"
   ]
  },
  {
   "cell_type": "code",
   "execution_count": 124,
   "metadata": {
    "collapsed": false
   },
   "outputs": [
    {
     "data": {
      "text/plain": [
       "(1498, 84)"
      ]
     },
     "execution_count": 124,
     "metadata": {},
     "output_type": "execute_result"
    }
   ],
   "source": [
    "atlas3 = atlas[(atlas['nome_uf'] == 'são paulo') | (atlas['nome_uf'] == 'minas gerais')]\n",
    "atlas3.shape"
   ]
  },
  {
   "cell_type": "markdown",
   "metadata": {},
   "source": [
    "### métodos de seleção \n",
    "\n",
    "vga.loc: por rótulo (label)  \n",
    "vga.iloc: por posição  "
   ]
  },
  {
   "cell_type": "code",
   "execution_count": 125,
   "metadata": {
    "collapsed": false
   },
   "outputs": [
    {
     "data": {
      "text/plain": [
       "      fectot  mort1  razdep  t_env  e_anosestudo\n",
       "2318    2.01  13.40   47.23   9.01          8.46\n",
       "2360    2.34  13.90   47.70   9.23          8.76\n",
       "2365    1.95  15.90   45.89   9.05          9.38\n",
       "2368    2.05  16.50   47.96   8.27          8.68\n",
       "2393    2.53  18.50   48.60   7.44          8.11\n",
       "2448    1.68  14.90   48.81   9.71          9.61\n",
       "2506    1.90  14.90   46.41   8.30          8.79\n",
       "2561    1.84  15.60   44.39   8.58          8.57\n",
       "2588    1.97  15.90   47.85   8.48          7.37\n",
       "2734    2.04  14.80   44.85   8.54          9.71\n",
       "2922    1.95  13.90   44.68   7.45          9.86\n",
       "2950    2.70  18.50   52.62   5.90          9.06\n",
       "3007    2.37  18.50   44.74   5.65          9.25\n",
       "3055    1.93  13.40   44.66   7.26          9.25\n",
       "3057    1.74  13.90   44.82   7.82          9.46\n",
       "3076    1.50  12.21   39.18   7.17          9.74"
      ]
     },
     "execution_count": 125,
     "metadata": {},
     "output_type": "execute_result"
    }
   ],
   "source": [
    "vga = vga.iloc[ : , 10:15]\n",
    "vga"
   ]
  },
  {
   "cell_type": "code",
   "execution_count": 126,
   "metadata": {
    "collapsed": false
   },
   "outputs": [
    {
     "data": {
      "text/plain": [
       "fectot           2.01\n",
       "mort1           13.40\n",
       "razdep          47.23\n",
       "t_env            9.01\n",
       "e_anosestudo     8.46\n",
       "Name: 2318, dtype: float64"
      ]
     },
     "execution_count": 126,
     "metadata": {},
     "output_type": "execute_result"
    }
   ],
   "source": [
    "vga.loc[2318] # nome da linha"
   ]
  },
  {
   "cell_type": "code",
   "execution_count": 127,
   "metadata": {
    "collapsed": false
   },
   "outputs": [
    {
     "data": {
      "text/plain": [
       "fectot           2.01\n",
       "mort1           13.40\n",
       "razdep          47.23\n",
       "t_env            9.01\n",
       "e_anosestudo     8.46\n",
       "Name: 2318, dtype: float64"
      ]
     },
     "execution_count": 127,
     "metadata": {},
     "output_type": "execute_result"
    }
   ],
   "source": [
    "vga.iloc[0] # número da linha"
   ]
  },
  {
   "cell_type": "code",
   "execution_count": 128,
   "metadata": {
    "collapsed": false
   },
   "outputs": [
    {
     "data": {
      "text/plain": [
       "      fectot  razdep\n",
       "2318    2.01   47.23\n",
       "2561    1.84   44.39\n",
       "2922    1.95   44.68"
      ]
     },
     "execution_count": 128,
     "metadata": {},
     "output_type": "execute_result"
    }
   ],
   "source": [
    "vga.iloc[[0, 7, 10], [0, 2]] # seleção não contínua (note os colchetes duplos)"
   ]
  },
  {
   "cell_type": "code",
   "execution_count": 129,
   "metadata": {
    "collapsed": false
   },
   "outputs": [
    {
     "data": {
      "text/plain": [
       "      razdep  t_env  e_anosestudo\n",
       "2318   47.23   9.01          8.46\n",
       "2360   47.70   9.23          8.76\n",
       "2365   45.89   9.05          9.38\n",
       "2368   47.96   8.27          8.68\n",
       "2393   48.60   7.44          8.11"
      ]
     },
     "execution_count": 129,
     "metadata": {},
     "output_type": "execute_result"
    }
   ],
   "source": [
    "vga.iloc[:5, 2:]   # uso do default"
   ]
  },
  {
   "cell_type": "code",
   "execution_count": 130,
   "metadata": {
    "collapsed": false
   },
   "outputs": [
    {
     "data": {
      "text/plain": [
       "     fectot  mort1 razdep t_env e_anosestudo\n",
       "2318   True   True  False  True         True\n",
       "2360   True   True  False  True         True\n",
       "2365   True  False  False  True         True\n",
       "2368   True  False  False  True         True\n",
       "2393   True  False  False  True         True\n",
       "2448   True   True  False  True         True\n",
       "2506   True   True  False  True         True\n",
       "2561   True  False  False  True         True\n",
       "2588   True  False  False  True         True\n",
       "2734   True   True  False  True         True\n",
       "2922   True   True  False  True         True\n",
       "2950   True  False  False  True         True\n",
       "3007   True  False  False  True         True\n",
       "3055   True   True  False  True         True\n",
       "3057   True   True  False  True         True\n",
       "3076   True   True  False  True         True"
      ]
     },
     "execution_count": 130,
     "metadata": {},
     "output_type": "execute_result"
    }
   ],
   "source": [
    "vga < 15 # seleção booleana de todo o dataframe "
   ]
  },
  {
   "cell_type": "code",
   "execution_count": 131,
   "metadata": {
    "collapsed": false
   },
   "outputs": [
    {
     "data": {
      "text/plain": [
       "      fectot  mort1  razdep  t_env  e_anosestudo\n",
       "2318    2.01  13.40     NaN   9.01          8.46\n",
       "2360    2.34  13.90     NaN   9.23          8.76\n",
       "2365    1.95    NaN     NaN   9.05          9.38\n",
       "2368    2.05    NaN     NaN   8.27          8.68\n",
       "2393    2.53    NaN     NaN   7.44          8.11\n",
       "2448    1.68  14.90     NaN   9.71          9.61\n",
       "2506    1.90  14.90     NaN   8.30          8.79\n",
       "2561    1.84    NaN     NaN   8.58          8.57\n",
       "2588    1.97    NaN     NaN   8.48          7.37\n",
       "2734    2.04  14.80     NaN   8.54          9.71\n",
       "2922    1.95  13.90     NaN   7.45          9.86\n",
       "2950    2.70    NaN     NaN   5.90          9.06\n",
       "3007    2.37    NaN     NaN   5.65          9.25\n",
       "3055    1.93  13.40     NaN   7.26          9.25\n",
       "3057    1.74  13.90     NaN   7.82          9.46\n",
       "3076    1.50  12.21     NaN   7.17          9.74"
      ]
     },
     "execution_count": 131,
     "metadata": {},
     "output_type": "execute_result"
    }
   ],
   "source": [
    "vga[vga < 15]"
   ]
  },
  {
   "cell_type": "code",
   "execution_count": 132,
   "metadata": {
    "collapsed": false
   },
   "outputs": [
    {
     "data": {
      "text/plain": [
       "      fectot  mort1  razdep  t_env  e_anosestudo\n",
       "2448    1.68  14.90   48.81   9.71          9.61\n",
       "2734    2.04  14.80   44.85   8.54          9.71\n",
       "2922    1.95  13.90   44.68   7.45          9.86\n",
       "3076    1.50  12.21   39.18   7.17          9.74"
      ]
     },
     "execution_count": 132,
     "metadata": {},
     "output_type": "execute_result"
    }
   ],
   "source": [
    "vga[vga.e_anosestudo > 9.5]"
   ]
  },
  {
   "cell_type": "code",
   "execution_count": 136,
   "metadata": {
    "collapsed": false
   },
   "outputs": [
    {
     "data": {
      "text/plain": [
       "      fectot  mort1  razdep  t_env  e_anosestudo\n",
       "2318     0.0  13.40   47.23   9.01          8.46\n",
       "2360     0.0  13.90   47.70   9.23          8.76\n",
       "2365     0.0  15.90   45.89   9.05          9.38\n",
       "2368     0.0  16.50   47.96   8.27          8.68\n",
       "2393     0.0  18.50   48.60   7.44          8.11\n",
       "2448     0.0  14.90   48.81   9.71          9.61\n",
       "2506     0.0  14.90   46.41   8.30          8.79\n",
       "2561     0.0  15.60   44.39   8.58          8.57\n",
       "2588     0.0  15.90   47.85   8.48          7.37\n",
       "2734     0.0  14.80   44.85   8.54          9.71\n",
       "2922     0.0  13.90   44.68   7.45          9.86\n",
       "2950     0.0  18.50   52.62   5.90          9.06\n",
       "3007     0.0  18.50   44.74   5.65          9.25\n",
       "3055     0.0  13.40   44.66   7.26          9.25\n",
       "3057     0.0  13.90   44.82   7.82          9.46\n",
       "3076     0.0  12.21   39.18   7.17          9.74"
      ]
     },
     "execution_count": 136,
     "metadata": {},
     "output_type": "execute_result"
    }
   ],
   "source": [
    "vga[vga < 5] = 0\n",
    "vga"
   ]
  },
  {
   "cell_type": "markdown",
   "metadata": {},
   "source": [
    "## Ordenar"
   ]
  },
  {
   "cell_type": "code",
   "execution_count": 137,
   "metadata": {
    "collapsed": true
   },
   "outputs": [],
   "source": [
    "# criar novo conjunto de dados\n",
    "vga = atlas.query('nome_micro == \"varginha\"')\n",
    "vga = vga.loc[: ,['nome_mun', 'pop']]"
   ]
  },
  {
   "cell_type": "code",
   "execution_count": 138,
   "metadata": {
    "collapsed": false
   },
   "outputs": [
    {
     "data": {
      "text/plain": [
       "                  nome_mun     pop\n",
       "2950       são bento abade    4577\n",
       "3007  são thomé das letras    6655\n",
       "2922     santana da vargem    7231\n",
       "2734       monsenhor paulo    8161\n",
       "2448             coqueiral    9289\n",
       "2365         campo do meio   11476\n",
       "2588              ilicínea   11488\n",
       "2393    carmo da cachoeira   11836\n",
       "2561                 guapé   13872\n",
       "2360              campanha   15433\n",
       "2506           elói mendes   25220\n",
       "2368         campos gerais   27600\n",
       "2318         boa esperança   38516\n",
       "3057           três pontas   53860\n",
       "3055         três corações   72765\n",
       "3076              varginha  123081"
      ]
     },
     "execution_count": 138,
     "metadata": {},
     "output_type": "execute_result"
    }
   ],
   "source": [
    "vga.sort_values(by='pop')"
   ]
  },
  {
   "cell_type": "code",
   "execution_count": 139,
   "metadata": {
    "collapsed": false
   },
   "outputs": [
    {
     "data": {
      "text/plain": [
       "                  nome_mun     pop\n",
       "3076              varginha  123081\n",
       "3055         três corações   72765\n",
       "3057           três pontas   53860\n",
       "2318         boa esperança   38516\n",
       "2368         campos gerais   27600\n",
       "2506           elói mendes   25220\n",
       "2360              campanha   15433\n",
       "2561                 guapé   13872\n",
       "2393    carmo da cachoeira   11836\n",
       "2588              ilicínea   11488\n",
       "2365         campo do meio   11476\n",
       "2448             coqueiral    9289\n",
       "2734       monsenhor paulo    8161\n",
       "2922     santana da vargem    7231\n",
       "3007  são thomé das letras    6655\n",
       "2950       são bento abade    4577"
      ]
     },
     "execution_count": 139,
     "metadata": {},
     "output_type": "execute_result"
    }
   ],
   "source": [
    "vga.sort_values(by='pop', ascending=False)"
   ]
  },
  {
   "cell_type": "code",
   "execution_count": 140,
   "metadata": {
    "collapsed": false
   },
   "outputs": [
    {
     "data": {
      "text/plain": [
       "0    6.5\n",
       "1    1.0\n",
       "2    6.5\n",
       "3    4.5\n",
       "4    3.0\n",
       "5    2.0\n",
       "6    4.5\n",
       "dtype: float64"
      ]
     },
     "execution_count": 140,
     "metadata": {},
     "output_type": "execute_result"
    }
   ],
   "source": [
    "# ranking\n",
    "# parece com com sorting, mas atribui posição e cria posição média para empates\n",
    "obj = Series([7, -5, 7, 4, 2, 0, 4])\n",
    "obj.rank()"
   ]
  },
  {
   "cell_type": "code",
   "execution_count": 141,
   "metadata": {
    "collapsed": false
   },
   "outputs": [
    {
     "data": {
      "text/plain": [
       "0    2.0\n",
       "1    7.0\n",
       "2    2.0\n",
       "3    4.0\n",
       "4    5.0\n",
       "5    6.0\n",
       "6    4.0\n",
       "dtype: float64"
      ]
     },
     "execution_count": 141,
     "metadata": {},
     "output_type": "execute_result"
    }
   ],
   "source": [
    "obj.rank(ascending=False, method='max')"
   ]
  },
  {
   "cell_type": "markdown",
   "metadata": {},
   "source": [
    "## Estatísticas descritivas"
   ]
  },
  {
   "cell_type": "code",
   "execution_count": 142,
   "metadata": {
    "collapsed": false
   },
   "outputs": [
    {
     "data": {
      "text/plain": [
       "190755799"
      ]
     },
     "execution_count": 142,
     "metadata": {},
     "output_type": "execute_result"
    }
   ],
   "source": [
    "atlas['pop'].sum() "
   ]
  },
  {
   "cell_type": "code",
   "execution_count": 143,
   "metadata": {
    "collapsed": false
   },
   "outputs": [
    {
     "data": {
      "text/plain": [
       "34277.771608265946"
      ]
     },
     "execution_count": 143,
     "metadata": {},
     "output_type": "execute_result"
    }
   ],
   "source": [
    "# NA são excluídos, a menos que toda a linha (ou coluna seja NA)\n",
    "atlas['pop'].mean()"
   ]
  },
  {
   "cell_type": "code",
   "execution_count": 144,
   "metadata": {
    "collapsed": false
   },
   "outputs": [
    {
     "data": {
      "text/plain": [
       "3828"
      ]
     },
     "execution_count": 144,
     "metadata": {},
     "output_type": "execute_result"
    }
   ],
   "source": [
    "# estatíticas indiretas: indicam o índice, não o valor\n",
    "atlas['pop'].idxmax()"
   ]
  },
  {
   "cell_type": "code",
   "execution_count": 145,
   "metadata": {
    "collapsed": false
   },
   "outputs": [
    {
     "data": {
      "text/plain": [
       "    A   B   C   D   E\n",
       "0   0   1   2   3   4\n",
       "1   5   6   7   8   9\n",
       "2  10  11  12  13  14\n",
       "3  15  16  17  18  19\n",
       "4  20  21  22  23  24\n",
       "5  25  26  27  28  29\n",
       "6  30  31  32  33  34\n",
       "7  35  36  37  38  39\n",
       "8  40  41  42  43  44\n",
       "9  45  46  47  48  49"
      ]
     },
     "execution_count": 145,
     "metadata": {},
     "output_type": "execute_result"
    }
   ],
   "source": [
    "df = DataFrame(np.arange(50).reshape(10, 5), columns=list('ABCDE'))\n",
    "df"
   ]
  },
  {
   "cell_type": "code",
   "execution_count": 146,
   "metadata": {
    "collapsed": false
   },
   "outputs": [
    {
     "data": {
      "text/plain": [
       "A    22.5\n",
       "B    23.5\n",
       "C    24.5\n",
       "D    25.5\n",
       "E    26.5\n",
       "dtype: float64"
      ]
     },
     "execution_count": 146,
     "metadata": {},
     "output_type": "execute_result"
    }
   ],
   "source": [
    "df.mean()     # média das colunas"
   ]
  },
  {
   "cell_type": "code",
   "execution_count": 147,
   "metadata": {
    "collapsed": false
   },
   "outputs": [
    {
     "data": {
      "text/plain": [
       "0     2.0\n",
       "1     7.0\n",
       "2    12.0\n",
       "3    17.0\n",
       "4    22.0\n",
       "5    27.0\n",
       "6    32.0\n",
       "7    37.0\n",
       "8    42.0\n",
       "9    47.0\n",
       "dtype: float64"
      ]
     },
     "execution_count": 147,
     "metadata": {},
     "output_type": "execute_result"
    }
   ],
   "source": [
    "df.mean(axis=1) # média das linhas"
   ]
  },
  {
   "cell_type": "code",
   "execution_count": 148,
   "metadata": {
    "collapsed": false
   },
   "outputs": [
    {
     "data": {
      "text/plain": [
       "     A    B    C    D    E\n",
       "A  1.0  1.0  1.0  1.0  1.0\n",
       "B  1.0  1.0  1.0  1.0  1.0\n",
       "C  1.0  1.0  1.0  1.0  1.0\n",
       "D  1.0  1.0  1.0  1.0  1.0\n",
       "E  1.0  1.0  1.0  1.0  1.0"
      ]
     },
     "execution_count": 148,
     "metadata": {},
     "output_type": "execute_result"
    }
   ],
   "source": [
    "df.corr()"
   ]
  },
  {
   "cell_type": "code",
   "execution_count": 149,
   "metadata": {
    "collapsed": false
   },
   "outputs": [
    {
     "data": {
      "text/plain": [
       "            A           B           C           D           E\n",
       "A  229.166667  229.166667  229.166667  229.166667  229.166667\n",
       "B  229.166667  229.166667  229.166667  229.166667  229.166667\n",
       "C  229.166667  229.166667  229.166667  229.166667  229.166667\n",
       "D  229.166667  229.166667  229.166667  229.166667  229.166667\n",
       "E  229.166667  229.166667  229.166667  229.166667  229.166667"
      ]
     },
     "execution_count": 149,
     "metadata": {},
     "output_type": "execute_result"
    }
   ],
   "source": [
    "df.cov()"
   ]
  },
  {
   "cell_type": "code",
   "execution_count": 150,
   "metadata": {
    "collapsed": false
   },
   "outputs": [
    {
     "data": {
      "text/plain": [
       "     A    B    C    D    E\n",
       "0    0    1    2    3    4\n",
       "1    5    7    9   11   13\n",
       "2   15   18   21   24   27\n",
       "3   30   34   38   42   46\n",
       "4   50   55   60   65   70\n",
       "5   75   81   87   93   99\n",
       "6  105  112  119  126  133\n",
       "7  140  148  156  164  172\n",
       "8  180  189  198  207  216\n",
       "9  225  235  245  255  265"
      ]
     },
     "execution_count": 150,
     "metadata": {},
     "output_type": "execute_result"
    }
   ],
   "source": [
    "df.cumsum()"
   ]
  },
  {
   "cell_type": "code",
   "execution_count": 151,
   "metadata": {
    "collapsed": false
   },
   "outputs": [
    {
     "data": {
      "text/plain": [
       "     A    B    C    D    E\n",
       "0    0    1    2    3    4\n",
       "1    5    7    9   11   13\n",
       "2   15   18   21   24   27\n",
       "3   30   34   38   42   46\n",
       "4   50   55   60   65   70\n",
       "5   75   81   87   93   99\n",
       "6  105  112  119  126  133\n",
       "7  140  148  156  164  172\n",
       "8  180  189  198  207  216\n",
       "9  225  235  245  255  265"
      ]
     },
     "execution_count": 151,
     "metadata": {},
     "output_type": "execute_result"
    }
   ],
   "source": [
    "df.apply(np.cumsum)  # usar apply"
   ]
  },
  {
   "cell_type": "code",
   "execution_count": 152,
   "metadata": {
    "collapsed": false
   },
   "outputs": [
    {
     "data": {
      "text/plain": [
       "          A     B     C     D     E\n",
       "count  10.0  10.0  10.0  10.0  10.0\n",
       "mean   22.5  23.5  24.5  25.5  26.5\n",
       "std    15.1  15.1  15.1  15.1  15.1\n",
       "min     0.0   1.0   2.0   3.0   4.0\n",
       "25%    11.2  12.2  13.2  14.2  15.2\n",
       "50%    22.5  23.5  24.5  25.5  26.5\n",
       "75%    33.8  34.8  35.8  36.8  37.8\n",
       "max    45.0  46.0  47.0  48.0  49.0"
      ]
     },
     "execution_count": 152,
     "metadata": {},
     "output_type": "execute_result"
    }
   ],
   "source": [
    "df.describe().round(1)"
   ]
  },
  {
   "cell_type": "code",
   "execution_count": 153,
   "metadata": {
    "collapsed": false
   },
   "outputs": [
    {
     "data": {
      "text/plain": [
       "0     a\n",
       "1     a\n",
       "2     b\n",
       "3     c\n",
       "4     a\n",
       "5     a\n",
       "6     b\n",
       "7     c\n",
       "8     a\n",
       "9     a\n",
       "10    b\n",
       "11    c\n",
       "12    a\n",
       "13    a\n",
       "14    b\n",
       "15    c\n",
       "dtype: object"
      ]
     },
     "execution_count": 153,
     "metadata": {},
     "output_type": "execute_result"
    }
   ],
   "source": [
    "# non-numeric\n",
    "obj = Series(['a', 'a', 'b', 'c'] * 4)\n",
    "obj"
   ]
  },
  {
   "cell_type": "code",
   "execution_count": 154,
   "metadata": {
    "collapsed": false
   },
   "outputs": [
    {
     "data": {
      "text/plain": [
       "count     16\n",
       "unique     3\n",
       "top        a\n",
       "freq       8\n",
       "dtype: object"
      ]
     },
     "execution_count": 154,
     "metadata": {},
     "output_type": "execute_result"
    }
   ],
   "source": [
    "obj.describe()"
   ]
  },
  {
   "cell_type": "markdown",
   "metadata": {},
   "source": [
    "### Estatísticas descritivas\n",
    "describe  \n",
    "count\t \n",
    "min, max  \t\n",
    "argmin, argmax  \t\n",
    "idxmin, idxmax\t   \n",
    "quantile\t  \n",
    "sum\t  \n",
    "mean\tmedian\t\n",
    "mad\t(mean absolute deviation from mean value)  \n",
    "var\t std\t  \n",
    "skew\tSample skewness (3rd moment) of values  \n",
    "kurt\tSample kurtosis (4th moment) of values  \n",
    "cumsum\tCumulative sum of values  \n",
    "cummin, cummax\tCumulative minimum or maximum of values, respectively  \n",
    "cumprod\tCumulative product of values  \n",
    "pct_change\tCompute percent changes  \n",
    "corr  \n",
    "cov   \n",
    "unique\n",
    "value_counts (frequency)   \n",
    "isin (vectorized set membership for filtering)  "
   ]
  },
  {
   "cell_type": "markdown",
   "metadata": {},
   "source": [
    "## NAs\n",
    "\n",
    "dropna\tFilter axis labels based on whether values for each label have missing data, with varying thresholds for how much missing data to tolerate.   \n",
    "fillna\tFill in missing data with some value or using an interpolation method such as 'ffill' or 'bfill'.  \n",
    "isnull\tReturn like-type object containing boolean values indicating which values are missing / NA.   \n",
    "notnull\tNegation of isnull.  "
   ]
  },
  {
   "cell_type": "code",
   "execution_count": null,
   "metadata": {
    "collapsed": true
   },
   "outputs": [],
   "source": [
    "# dropna by default drops any row containing a missing value\n",
    "# Passing how='all' will only drop rows that are all NA\n",
    "# Dropping columns in the same way is only a matter of passing axis=1\n",
    "# to keep only rows containing a certain number of observations, thresh argument"
   ]
  },
  {
   "cell_type": "code",
   "execution_count": 155,
   "metadata": {
    "collapsed": false
   },
   "outputs": [
    {
     "data": {
      "text/plain": [
       "     a    b   c\n",
       "0  1.0  3.0   2\n",
       "1  NaN  2.0   6\n",
       "2  5.0  NaN  10\n",
       "3  4.0  6.0  14"
      ]
     },
     "execution_count": 155,
     "metadata": {},
     "output_type": "execute_result"
    }
   ],
   "source": [
    "df = DataFrame({'a': [1., np.nan, 5., 4],\n",
    "                  'b': [3, 2., np.nan, 6.],\n",
    "                  'c': range(2, 18, 4)})\n",
    "df"
   ]
  },
  {
   "cell_type": "code",
   "execution_count": 156,
   "metadata": {
    "collapsed": false
   },
   "outputs": [
    {
     "data": {
      "text/plain": [
       "     a    b   c\n",
       "0  1.0  3.0   2\n",
       "3  4.0  6.0  14"
      ]
     },
     "execution_count": 156,
     "metadata": {},
     "output_type": "execute_result"
    }
   ],
   "source": [
    "df.dropna()"
   ]
  },
  {
   "cell_type": "code",
   "execution_count": 157,
   "metadata": {
    "collapsed": false
   },
   "outputs": [
    {
     "data": {
      "text/plain": [
       "     a    b   c\n",
       "0  1.0  3.0   2\n",
       "1  0.0  2.0   6\n",
       "2  5.0  0.0  10\n",
       "3  4.0  6.0  14"
      ]
     },
     "execution_count": 157,
     "metadata": {},
     "output_type": "execute_result"
    }
   ],
   "source": [
    "df.fillna(0) "
   ]
  },
  {
   "cell_type": "code",
   "execution_count": 158,
   "metadata": {
    "collapsed": false
   },
   "outputs": [
    {
     "data": {
      "text/plain": [
       "0    1.0\n",
       "1    8.0\n",
       "2    5.0\n",
       "3    4.0\n",
       "Name: a, dtype: float64"
      ]
     },
     "execution_count": 158,
     "metadata": {},
     "output_type": "execute_result"
    }
   ],
   "source": [
    "df['a'].fillna( df['c'].mean() )"
   ]
  },
  {
   "cell_type": "markdown",
   "metadata": {},
   "source": [
    "## Unir dataframes"
   ]
  },
  {
   "cell_type": "code",
   "execution_count": 159,
   "metadata": {
    "collapsed": false
   },
   "outputs": [
    {
     "name": "stdout",
     "output_type": "stream",
     "text": [
      "   data1 key\n",
      "0      0   b\n",
      "1      1   b\n",
      "2      2   a\n",
      "3      3   c\n",
      "4      4   a\n",
      "5      5   a\n",
      "6      6   b\n"
     ]
    },
    {
     "data": {
      "text/plain": [
       "   data2 key\n",
       "0      0   a\n",
       "1      1   b\n",
       "2      2   d"
      ]
     },
     "execution_count": 159,
     "metadata": {},
     "output_type": "execute_result"
    }
   ],
   "source": [
    "# merge leva em conta os índices, concat apenas junta, combine_first ompleta um com outro\n",
    "df1 = DataFrame({'key': ['b', 'b', 'a', 'c', 'a', 'a', 'b'], 'data1': range(7)})\n",
    "df2 = DataFrame({'key': ['a', 'b', 'd'], 'data2': range(3)})\n",
    "print(df1)\n",
    "df2"
   ]
  },
  {
   "cell_type": "code",
   "execution_count": 161,
   "metadata": {
    "collapsed": false
   },
   "outputs": [
    {
     "data": {
      "text/plain": [
       "   data1 key  data2\n",
       "0      0   b      1\n",
       "1      1   b      1\n",
       "2      6   b      1\n",
       "3      2   a      0\n",
       "4      4   a      0\n",
       "5      5   a      0"
      ]
     },
     "execution_count": 161,
     "metadata": {},
     "output_type": "execute_result"
    }
   ],
   "source": [
    "# many to one\n",
    "merge(df1, df2)"
   ]
  },
  {
   "cell_type": "code",
   "execution_count": 162,
   "metadata": {
    "collapsed": false
   },
   "outputs": [
    {
     "data": {
      "text/plain": [
       "   data1 key  data2\n",
       "0      0   b      1\n",
       "1      1   b      1\n",
       "2      6   b      1\n",
       "3      2   a      0\n",
       "4      4   a      0\n",
       "5      5   a      0"
      ]
     },
     "execution_count": 162,
     "metadata": {},
     "output_type": "execute_result"
    }
   ],
   "source": [
    "# explicitando a chave\n",
    "merge(df1, df2, on='key')"
   ]
  },
  {
   "cell_type": "markdown",
   "metadata": {
    "collapsed": true
   },
   "source": [
    "default é inner join, mas com *how=* é possível especificar direita, esquerda e outer (união, esquerda + direita)"
   ]
  },
  {
   "cell_type": "code",
   "execution_count": 163,
   "metadata": {
    "collapsed": false
   },
   "outputs": [
    {
     "name": "stdout",
     "output_type": "stream",
     "text": [
      "     a    b   c\n",
      "0  1.0  NaN   2\n",
      "1  NaN  2.0   6\n",
      "2  5.0  NaN  10\n",
      "3  NaN  6.0  14\n"
     ]
    },
    {
     "data": {
      "text/plain": [
       "     a    b\n",
       "0  5.0  NaN\n",
       "1  4.0  3.0\n",
       "2  NaN  4.0\n",
       "3  3.0  6.0\n",
       "4  7.0  8.0"
      ]
     },
     "execution_count": 163,
     "metadata": {},
     "output_type": "execute_result"
    }
   ],
   "source": [
    "# completando um df com outro: combine_first\n",
    "df1 = DataFrame({'a': [1., np.nan, 5., np.nan],\n",
    "                  'b': [np.nan, 2., np.nan, 6.],\n",
    "                  'c': range(2, 18, 4)})\n",
    "df2 = DataFrame({'a': [5., 4., np.nan, 3., 7.],\n",
    "                  'b': [np.nan, 3., 4., 6., 8.]})\n",
    "print(df1)\n",
    "df2"
   ]
  },
  {
   "cell_type": "code",
   "execution_count": 164,
   "metadata": {
    "collapsed": false
   },
   "outputs": [
    {
     "data": {
      "text/plain": [
       "     a    b     c\n",
       "0  1.0  NaN   2.0\n",
       "1  4.0  2.0   6.0\n",
       "2  5.0  4.0  10.0\n",
       "3  3.0  6.0  14.0\n",
       "4  7.0  8.0   NaN"
      ]
     },
     "execution_count": 164,
     "metadata": {},
     "output_type": "execute_result"
    }
   ],
   "source": [
    "df1.combine_first(df2)"
   ]
  },
  {
   "cell_type": "code",
   "execution_count": 166,
   "metadata": {
    "collapsed": false
   },
   "outputs": [
    {
     "data": {
      "text/plain": [
       "number    one  two  three\n",
       "state                    \n",
       "Ohio        0    1      2\n",
       "Colorado    3    4      5"
      ]
     },
     "execution_count": 166,
     "metadata": {},
     "output_type": "execute_result"
    }
   ],
   "source": [
    "# reshaping\n",
    "#     stack: this “rotates” or pivots from the columns in the data to the rows\n",
    "#     unstack: this pivots from the rows into the columns\n",
    "data = DataFrame(arange(6).reshape((2, 3)),\n",
    "                  index=Index(['Ohio', 'Colorado'], name='state'),\n",
    "                  columns=Index(['one', 'two', 'three'], name='number'))\n",
    "data"
   ]
  },
  {
   "cell_type": "code",
   "execution_count": 167,
   "metadata": {
    "collapsed": false
   },
   "outputs": [
    {
     "data": {
      "text/plain": [
       "state     number\n",
       "Ohio      one       0\n",
       "          two       1\n",
       "          three     2\n",
       "Colorado  one       3\n",
       "          two       4\n",
       "          three     5\n",
       "dtype: int64"
      ]
     },
     "execution_count": 167,
     "metadata": {},
     "output_type": "execute_result"
    }
   ],
   "source": [
    "result = data.stack()\n",
    "result"
   ]
  },
  {
   "cell_type": "code",
   "execution_count": 168,
   "metadata": {
    "collapsed": false
   },
   "outputs": [
    {
     "data": {
      "text/plain": [
       "number    one  two  three\n",
       "state                    \n",
       "Ohio        0    1      2\n",
       "Colorado    3    4      5"
      ]
     },
     "execution_count": 168,
     "metadata": {},
     "output_type": "execute_result"
    }
   ],
   "source": [
    "result.unstack()"
   ]
  },
  {
   "cell_type": "code",
   "execution_count": 169,
   "metadata": {
    "collapsed": false
   },
   "outputs": [
    {
     "data": {
      "text/plain": [
       "state   Ohio  Colorado\n",
       "number                \n",
       "one        0         3\n",
       "two        1         4\n",
       "three      2         5"
      ]
     },
     "execution_count": 169,
     "metadata": {},
     "output_type": "execute_result"
    }
   ],
   "source": [
    "# indicado o nível da indexação hierárquica\n",
    "result.unstack(0)"
   ]
  },
  {
   "cell_type": "code",
   "execution_count": 170,
   "metadata": {
    "collapsed": false
   },
   "outputs": [
    {
     "data": {
      "text/plain": [
       "state   Ohio  Colorado\n",
       "number                \n",
       "one        0         3\n",
       "two        1         4\n",
       "three      2         5"
      ]
     },
     "execution_count": 170,
     "metadata": {},
     "output_type": "execute_result"
    }
   ],
   "source": [
    "result.unstack('state')"
   ]
  },
  {
   "cell_type": "code",
   "execution_count": null,
   "metadata": {
    "collapsed": true
   },
   "outputs": [],
   "source": [
    "# estudar pivoting (exemplos do livro não funcionaram): serve para criar formato largo\n",
    "# pivot is just a shortcut for creating a hierarchical index using set_index and reshaping with unstack"
   ]
  },
  {
   "cell_type": "code",
   "execution_count": 171,
   "metadata": {
    "collapsed": false
   },
   "outputs": [
    {
     "data": {
      "text/plain": [
       "    k1  k2\n",
       "0  one   1\n",
       "1  one   1\n",
       "2  one   2\n",
       "3  two   3\n",
       "4  two   3\n",
       "5  two   4\n",
       "6  two   4"
      ]
     },
     "execution_count": 171,
     "metadata": {},
     "output_type": "execute_result"
    }
   ],
   "source": [
    "# removing duplicate rows\n",
    "data = DataFrame({'k1': ['one'] * 3 + ['two'] * 4,\n",
    "                'k2': [1, 1, 2, 3, 3, 4, 4]})\n",
    "data"
   ]
  },
  {
   "cell_type": "code",
   "execution_count": 172,
   "metadata": {
    "collapsed": false
   },
   "outputs": [
    {
     "data": {
      "text/plain": [
       "0    False\n",
       "1     True\n",
       "2    False\n",
       "3    False\n",
       "4     True\n",
       "5    False\n",
       "6     True\n",
       "dtype: bool"
      ]
     },
     "execution_count": 172,
     "metadata": {},
     "output_type": "execute_result"
    }
   ],
   "source": [
    "data.duplicated()"
   ]
  },
  {
   "cell_type": "code",
   "execution_count": 173,
   "metadata": {
    "collapsed": false
   },
   "outputs": [
    {
     "data": {
      "text/plain": [
       "    k1  k2\n",
       "0  one   1\n",
       "2  one   2\n",
       "3  two   3\n",
       "5  two   4"
      ]
     },
     "execution_count": 173,
     "metadata": {},
     "output_type": "execute_result"
    }
   ],
   "source": [
    "data.drop_duplicates()"
   ]
  },
  {
   "cell_type": "code",
   "execution_count": 174,
   "metadata": {
    "collapsed": false
   },
   "outputs": [
    {
     "data": {
      "text/plain": [
       "          food  ounces\n",
       "0        bacon     4.0\n",
       "1  pulled pork     3.0\n",
       "2        bacon    12.0\n",
       "3     Pastrami     6.0\n",
       "4  corned beef     7.5\n",
       "5        Bacon     8.0\n",
       "6     pastrami     3.0\n",
       "7    honey ham     5.0\n",
       "8     nova lox     6.0"
      ]
     },
     "execution_count": 174,
     "metadata": {},
     "output_type": "execute_result"
    }
   ],
   "source": [
    "# Transforming Data Using a Function or Mapping\n",
    "data = DataFrame({'food': ['bacon', 'pulled pork', 'bacon', 'Pastrami',\n",
    "                            'corned beef', 'Bacon', 'pastrami', 'honey ham',\n",
    "                            'nova lox'],\n",
    "                            'ounces': [4, 3, 12, 6, 7.5, 8, 3, 5, 6]})\n",
    "data"
   ]
  },
  {
   "cell_type": "code",
   "execution_count": 175,
   "metadata": {
    "collapsed": true
   },
   "outputs": [],
   "source": [
    "# Suppose you wanted to add a column indicating the type of animal that each food came from. Let’s write down a mapping of each distinct meat type to the kind of animal\n",
    "meat_to_animal = {\n",
    "  'bacon': 'pig',\n",
    "  'pulled pork': 'pig',\n",
    "  'pastrami': 'cow',\n",
    "  'corned beef': 'cow',\n",
    "  'honey ham': 'pig',\n",
    "  'nova lox': 'salmon'\n",
    "}"
   ]
  },
  {
   "cell_type": "code",
   "execution_count": 176,
   "metadata": {
    "collapsed": false
   },
   "outputs": [
    {
     "data": {
      "text/plain": [
       "          food  ounces  animal\n",
       "0        bacon     4.0     pig\n",
       "1  pulled pork     3.0     pig\n",
       "2        bacon    12.0     pig\n",
       "3     Pastrami     6.0     cow\n",
       "4  corned beef     7.5     cow\n",
       "5        Bacon     8.0     pig\n",
       "6     pastrami     3.0     cow\n",
       "7    honey ham     5.0     pig\n",
       "8     nova lox     6.0  salmon"
      ]
     },
     "execution_count": 176,
     "metadata": {},
     "output_type": "execute_result"
    }
   ],
   "source": [
    "data['animal'] = data['food'].map(str.lower).map(meat_to_animal)\n",
    "data"
   ]
  },
  {
   "cell_type": "code",
   "execution_count": 177,
   "metadata": {
    "collapsed": false
   },
   "outputs": [
    {
     "data": {
      "text/plain": [
       "0       pig\n",
       "1       pig\n",
       "2       pig\n",
       "3       cow\n",
       "4       cow\n",
       "5       pig\n",
       "6       cow\n",
       "7       pig\n",
       "8    salmon\n",
       "Name: food, dtype: object"
      ]
     },
     "execution_count": 177,
     "metadata": {},
     "output_type": "execute_result"
    }
   ],
   "source": [
    "# outra estratégia\n",
    "data['food'].map(lambda x: meat_to_animal[x.lower()])"
   ]
  },
  {
   "cell_type": "code",
   "execution_count": 179,
   "metadata": {
    "collapsed": false
   },
   "outputs": [
    {
     "data": {
      "text/plain": [
       "0    1.0\n",
       "1    NaN\n",
       "2    2.0\n",
       "3    NaN\n",
       "4    0.0\n",
       "5    3.0\n",
       "dtype: float64"
      ]
     },
     "execution_count": 179,
     "metadata": {},
     "output_type": "execute_result"
    }
   ],
   "source": [
    "# replacing values\n",
    "data = Series([1., -999., 2., -999., -1000., 3.])\n",
    "data.replace([-999, -1000], [nan, 0])"
   ]
  },
  {
   "cell_type": "code",
   "execution_count": 180,
   "metadata": {
    "collapsed": true
   },
   "outputs": [],
   "source": [
    "# para renomear index\n",
    "# data.index = data.index.map(str.lower)"
   ]
  },
  {
   "cell_type": "markdown",
   "metadata": {},
   "source": [
    "## Discretização: criando classes"
   ]
  },
  {
   "cell_type": "code",
   "execution_count": 181,
   "metadata": {
    "collapsed": false
   },
   "outputs": [
    {
     "data": {
      "text/plain": [
       "   data1 key\n",
       "0      0   b\n",
       "1      1   b\n",
       "2      2   a\n",
       "3      3   c\n",
       "4      4   a\n",
       "5      5   b"
      ]
     },
     "execution_count": 181,
     "metadata": {},
     "output_type": "execute_result"
    }
   ],
   "source": [
    "# creating dummy variables\n",
    "df = DataFrame({'key': ['b', 'b', 'a', 'c', 'a', 'b'],\n",
    "                 'data1': range(6)})\n",
    "df"
   ]
  },
  {
   "cell_type": "code",
   "execution_count": 182,
   "metadata": {
    "collapsed": false
   },
   "outputs": [
    {
     "data": {
      "text/plain": [
       "     a    b    c\n",
       "0  0.0  1.0  0.0\n",
       "1  0.0  1.0  0.0\n",
       "2  1.0  0.0  0.0\n",
       "3  0.0  0.0  1.0\n",
       "4  1.0  0.0  0.0\n",
       "5  0.0  1.0  0.0"
      ]
     },
     "execution_count": 182,
     "metadata": {},
     "output_type": "execute_result"
    }
   ],
   "source": [
    "get_dummies(df['key'])"
   ]
  },
  {
   "cell_type": "code",
   "execution_count": 184,
   "metadata": {
    "collapsed": false
   },
   "outputs": [
    {
     "data": {
      "text/plain": [
       "[Youth, Youth, Youth, YoungAdult, Youth, ..., YoungAdult, Senior, MiddleAged, MiddleAged, YoungAdult]\n",
       "Length: 12\n",
       "Categories (4, object): [Youth < YoungAdult < MiddleAged < Senior]"
      ]
     },
     "execution_count": 184,
     "metadata": {},
     "output_type": "execute_result"
    }
   ],
   "source": [
    "ages = [20, 22, 25, 27, 21, 23, 37, 31, 61, 45, 41, 32]\n",
    "bins = [18, 25, 35, 60, 100]\n",
    "group_names = ['Youth', 'YoungAdult', 'MiddleAged', 'Senior']\n",
    "cats = cut(ages, bins, labels=group_names) # para mudar o lado inclusivo, right=False\n",
    "cats"
   ]
  },
  {
   "cell_type": "code",
   "execution_count": 185,
   "metadata": {
    "collapsed": false
   },
   "outputs": [
    {
     "data": {
      "text/plain": [
       "array([0, 0, 0, 1, 0, 0, 2, 1, 3, 2, 2, 1], dtype=int8)"
      ]
     },
     "execution_count": 185,
     "metadata": {},
     "output_type": "execute_result"
    }
   ],
   "source": [
    "cats.codes"
   ]
  },
  {
   "cell_type": "code",
   "execution_count": 186,
   "metadata": {
    "collapsed": false
   },
   "outputs": [
    {
     "data": {
      "text/plain": [
       "Index(['Youth', 'YoungAdult', 'MiddleAged', 'Senior'], dtype='object')"
      ]
     },
     "execution_count": 186,
     "metadata": {},
     "output_type": "execute_result"
    }
   ],
   "source": [
    "cats.categories"
   ]
  },
  {
   "cell_type": "code",
   "execution_count": 187,
   "metadata": {
    "collapsed": false
   },
   "outputs": [
    {
     "data": {
      "text/plain": [
       "Youth         5\n",
       "MiddleAged    3\n",
       "YoungAdult    3\n",
       "Senior        1\n",
       "dtype: int64"
      ]
     },
     "execution_count": 187,
     "metadata": {},
     "output_type": "execute_result"
    }
   ],
   "source": [
    "value_counts(cats)"
   ]
  },
  {
   "cell_type": "code",
   "execution_count": 188,
   "metadata": {
    "collapsed": false
   },
   "outputs": [
    {
     "data": {
      "text/plain": [
       "(0.74, 0.99]     8\n",
       "(0.013, 0.26]    6\n",
       "(0.26, 0.5]      4\n",
       "(0.5, 0.74]      2\n",
       "dtype: int64"
      ]
     },
     "execution_count": 188,
     "metadata": {},
     "output_type": "execute_result"
    }
   ],
   "source": [
    "# If you pass cut a integer number of bins instead of explicit bin edges, it will compute equal-length bins based on the minimum and maximum values in the data. Consider the case of some uniformly distributed data chopped into fourths\n",
    "data = random.rand(20)\n",
    "data = cut(data, 4, precision=2)\n",
    "value_counts(data)"
   ]
  },
  {
   "cell_type": "markdown",
   "metadata": {},
   "source": [
    "## Dividindo em quantis"
   ]
  },
  {
   "cell_type": "code",
   "execution_count": 189,
   "metadata": {
    "collapsed": false
   },
   "outputs": [
    {
     "data": {
      "text/plain": [
       "(0.706, 3.0226]     250\n",
       "(0.0574, 0.706]     250\n",
       "(-0.668, 0.0574]    250\n",
       "[-2.967, -0.668]    250\n",
       "dtype: int64"
      ]
     },
     "execution_count": 189,
     "metadata": {},
     "output_type": "execute_result"
    }
   ],
   "source": [
    "data = random.randn(1000) # Normally distributed\n",
    "cats = qcut(data, 4) # Cut into quartiles\n",
    "value_counts(cats)"
   ]
  },
  {
   "cell_type": "code",
   "execution_count": 190,
   "metadata": {
    "collapsed": false
   },
   "outputs": [
    {
     "data": {
      "text/plain": [
       "[(1.369, 3.0226], (0.0574, 1.369], (0.0574, 1.369], (1.369, 3.0226], (0.0574, 1.369], ..., (0.0574, 1.369], (-1.323, 0.0574], (-1.323, 0.0574], (0.0574, 1.369], (-1.323, 0.0574]]\n",
       "Length: 1000\n",
       "Categories (4, object): [[-2.967, -1.323] < (-1.323, 0.0574] < (0.0574, 1.369] < (1.369, 3.0226]]"
      ]
     },
     "execution_count": 190,
     "metadata": {},
     "output_type": "execute_result"
    }
   ],
   "source": [
    "qcut(data, [0, 0.1, 0.5, 0.9, 1.])"
   ]
  },
  {
   "cell_type": "markdown",
   "metadata": {},
   "source": [
    "## Outliers: detectar e filtrar "
   ]
  },
  {
   "cell_type": "code",
   "execution_count": 193,
   "metadata": {
    "collapsed": false
   },
   "outputs": [
    {
     "data": {
      "text/plain": [
       "                 0            1            2            3\n",
       "count  1000.000000  1000.000000  1000.000000  1000.000000\n",
       "mean     -0.067684     0.067924     0.025598    -0.002298\n",
       "std       0.998035     0.992106     1.006835     0.996794\n",
       "min      -3.428254    -3.548824    -3.184377    -3.745356\n",
       "25%      -0.774890    -0.591841    -0.641675    -0.644144\n",
       "50%      -0.116401     0.101143     0.002073    -0.013611\n",
       "75%       0.616366     0.780282     0.680391     0.654328\n",
       "max       3.366626     2.653656     3.260383     3.927528"
      ]
     },
     "execution_count": 193,
     "metadata": {},
     "output_type": "execute_result"
    }
   ],
   "source": [
    "random.seed(12345)\n",
    "data = DataFrame(random.randn(1000, 4))\n",
    "data.describe()\n"
   ]
  },
  {
   "cell_type": "code",
   "execution_count": 194,
   "metadata": {
    "collapsed": false
   },
   "outputs": [
    {
     "data": {
      "text/plain": [
       "97     3.927528\n",
       "305   -3.399312\n",
       "400   -3.745356\n",
       "Name: 3, dtype: float64"
      ]
     },
     "execution_count": 194,
     "metadata": {},
     "output_type": "execute_result"
    }
   ],
   "source": [
    "col = data[3]\n",
    "col[abs(col) > 3]"
   ]
  },
  {
   "cell_type": "code",
   "execution_count": 195,
   "metadata": {
    "collapsed": false
   },
   "outputs": [
    {
     "data": {
      "text/plain": [
       "            0         1         2         3\n",
       "5   -0.539741  0.476985  3.248944 -1.021228\n",
       "97  -0.774363  0.552936  0.106061  3.927528\n",
       "102 -0.655054 -0.565230  3.176873  0.959533\n",
       "305 -2.315555  0.457246 -0.025907 -3.399312\n",
       "324  0.050188  1.951312  3.260383  0.963301\n",
       "400  0.146326  0.508391 -0.196713 -3.745356\n",
       "499 -0.293333 -0.242459 -3.056990  1.918403\n",
       "523 -3.428254 -0.296336 -0.439938 -0.867165\n",
       "586  0.275144  1.179227 -3.184377  1.369891\n",
       "808 -0.362528 -3.548824  1.553205 -2.186301\n",
       "900  3.366626 -2.372214  0.851010  1.332846"
      ]
     },
     "execution_count": 195,
     "metadata": {},
     "output_type": "execute_result"
    }
   ],
   "source": [
    "# mostrar todos os outliers\n",
    "data[(abs(data) > 3).any(1)]"
   ]
  },
  {
   "cell_type": "markdown",
   "metadata": {
    "collapsed": true
   },
   "source": [
    "## Split-apply-combine"
   ]
  },
  {
   "cell_type": "code",
   "execution_count": 196,
   "metadata": {
    "collapsed": false
   },
   "outputs": [
    {
     "data": {
      "text/plain": [
       "      data1     data2 key1 key2\n",
       "0  1.150765  1.199915    a  one\n",
       "1 -0.997174 -0.451814    a  two\n",
       "2  0.046486 -0.155385    b  one\n",
       "3 -0.610441 -0.153514    b  two\n",
       "4 -0.394982  0.011194    a  one"
      ]
     },
     "execution_count": 196,
     "metadata": {},
     "output_type": "execute_result"
    }
   ],
   "source": [
    "# split-apply-combine\n",
    "df = DataFrame({'key1' : ['a', 'a', 'b', 'b', 'a'],\n",
    "                 'key2' : ['one', 'two', 'one', 'two', 'one'],\n",
    "                 'data1' : random.randn(5),\n",
    "                 'data2' : random.randn(5)})\n",
    "df"
   ]
  },
  {
   "cell_type": "code",
   "execution_count": null,
   "metadata": {
    "collapsed": false
   },
   "outputs": [],
   "source": [
    "df['data1'].groupby(df['key1']).mean()"
   ]
  },
  {
   "cell_type": "markdown",
   "metadata": {
    "collapsed": true
   },
   "source": [
    "### Tabulações cruzadas"
   ]
  },
  {
   "cell_type": "markdown",
   "metadata": {},
   "source": [
    "\n",
    "\n",
    "Sample  Gender    Handedness  \n",
    "1  Female  Right-handed  \n",
    "2    Male   Left-handed  \n",
    "3  Female  Right-handed  \n",
    "4    Male  Right-handed  \n",
    "5    Male   Left-handed  \n",
    "6    Male  Right-handed  \n",
    "7  Female  Right-handed  \n",
    "8  Female   Left-handed  \n",
    "9    Male  Right-handed  \n",
    "10  Female  Right-handed  "
   ]
  },
  {
   "cell_type": "code",
   "execution_count": 198,
   "metadata": {
    "collapsed": true
   },
   "outputs": [],
   "source": [
    "dados = read_clipboard()"
   ]
  },
  {
   "cell_type": "code",
   "execution_count": 199,
   "metadata": {
    "collapsed": false
   },
   "outputs": [
    {
     "data": {
      "text/plain": [
       "   Sample  Gender    Handedness\n",
       "0       1  Female  Right-handed\n",
       "1       2    Male   Left-handed\n",
       "2       3  Female  Right-handed\n",
       "3       4    Male  Right-handed\n",
       "4       5    Male   Left-handed\n",
       "5       6    Male  Right-handed\n",
       "6       7  Female  Right-handed\n",
       "7       8  Female   Left-handed\n",
       "8       9    Male  Right-handed\n",
       "9      10  Female  Right-handed"
      ]
     },
     "execution_count": 199,
     "metadata": {},
     "output_type": "execute_result"
    }
   ],
   "source": [
    "dados"
   ]
  },
  {
   "cell_type": "code",
   "execution_count": 200,
   "metadata": {
    "collapsed": false
   },
   "outputs": [
    {
     "data": {
      "text/plain": [
       "Handedness  Left-handed  Right-handed  All\n",
       "Gender                                    \n",
       "Female                1             4    5\n",
       "Male                  2             3    5\n",
       "All                   3             7   10"
      ]
     },
     "execution_count": 200,
     "metadata": {},
     "output_type": "execute_result"
    }
   ],
   "source": [
    "crosstab(dados.Gender, dados.Handedness, margins=True)"
   ]
  },
  {
   "cell_type": "code",
   "execution_count": null,
   "metadata": {
    "collapsed": true
   },
   "outputs": [],
   "source": [
    "# para usar mais de uma variável: pd.crosstab([tips.time, tips.day], tips.smoker, margins=True)"
   ]
  },
  {
   "cell_type": "code",
   "execution_count": null,
   "metadata": {
    "collapsed": true
   },
   "outputs": [],
   "source": []
  },
  {
   "cell_type": "markdown",
   "metadata": {
    "collapsed": true
   },
   "source": [
    "## compração com o r/dplyr\n",
    "\n",
    "r/dplyr |\t python/pandas\n",
    ":-------:|:---------:\n",
    "filter() |\tquery() (and loc[], iloc[])\n",
    "arrange() | sort_values\n",
    "select()  |\t_getitem_ (and rename())\n",
    "distinct() \t| drop_duplicates()\n",
    "mutate()  |\tassign\n",
    "summarise() \t| None\n",
    "sample_n() |\tsample\n",
    "%>% |\tpipe"
   ]
  },
  {
   "cell_type": "code",
   "execution_count": null,
   "metadata": {
    "collapsed": true
   },
   "outputs": [],
   "source": []
  }
 ],
 "metadata": {
  "anaconda-cloud": {},
  "kernelspec": {
   "display_name": "Python [Root]",
   "language": "python",
   "name": "Python [Root]"
  },
  "language_info": {
   "codemirror_mode": {
    "name": "ipython",
    "version": 3
   },
   "file_extension": ".py",
   "mimetype": "text/x-python",
   "name": "python",
   "nbconvert_exporter": "python",
   "pygments_lexer": "ipython3",
   "version": "3.5.2"
  }
 },
 "nbformat": 4,
 "nbformat_minor": 1
}
